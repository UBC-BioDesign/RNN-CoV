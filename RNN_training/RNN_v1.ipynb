{
  "nbformat": 4,
  "nbformat_minor": 0,
  "metadata": {
    "colab": {
      "name": "RNN saving model.ipynb",
      "provenance": [],
      "collapsed_sections": []
    },
    "kernelspec": {
      "name": "python3",
      "display_name": "Python 3"
    },
    "accelerator": "GPU"
  },
  "cells": [
    {
      "cell_type": "code",
      "metadata": {
        "id": "wqOmxNoZ44jX",
        "colab_type": "code",
        "colab": {}
      },
      "source": [
        "import pandas as pd\n",
        "import numpy as np\n",
        "import tensorflow as tf\n",
        "import os\n",
        "import time "
      ],
      "execution_count": 0,
      "outputs": []
    },
    {
      "cell_type": "code",
      "metadata": {
        "id": "V2i7U9lz2PXm",
        "colab_type": "code",
        "outputId": "cd30e603-e9b0-4564-9738-39aea767fa74",
        "colab": {
          "base_uri": "https://localhost:8080/",
          "height": 35
        }
      },
      "source": [
        "print(tf.__version__)"
      ],
      "execution_count": 2,
      "outputs": [
        {
          "output_type": "stream",
          "text": [
            "2.2.0\n"
          ],
          "name": "stdout"
        }
      ]
    },
    {
      "cell_type": "code",
      "metadata": {
        "id": "RJdPwNeV5sQI",
        "colab_type": "code",
        "outputId": "77500afd-788c-4f4d-83b4-7271ea6811ce",
        "colab": {
          "base_uri": "https://localhost:8080/",
          "height": 202
        }
      },
      "source": [
        "seqs = pd.read_csv('spike_protein_no_special.csv')\n",
        "seqs.head(5)"
      ],
      "execution_count": 3,
      "outputs": [
        {
          "output_type": "execute_result",
          "data": {
            "text/html": [
              "<div>\n",
              "<style scoped>\n",
              "    .dataframe tbody tr th:only-of-type {\n",
              "        vertical-align: middle;\n",
              "    }\n",
              "\n",
              "    .dataframe tbody tr th {\n",
              "        vertical-align: top;\n",
              "    }\n",
              "\n",
              "    .dataframe thead th {\n",
              "        text-align: right;\n",
              "    }\n",
              "</style>\n",
              "<table border=\"1\" class=\"dataframe\">\n",
              "  <thead>\n",
              "    <tr style=\"text-align: right;\">\n",
              "      <th></th>\n",
              "      <th>Sequences</th>\n",
              "    </tr>\n",
              "  </thead>\n",
              "  <tbody>\n",
              "    <tr>\n",
              "      <th>0</th>\n",
              "      <td>ATGTTTGTTTTTCTTGTTTTATTGCCACTAGTTTCTAGTCAGTGTG...</td>\n",
              "    </tr>\n",
              "    <tr>\n",
              "      <th>1</th>\n",
              "      <td>ATGTTGTTTTTCTTCTTTTTACACTTTGCCTTAGTAAATTCACAAT...</td>\n",
              "    </tr>\n",
              "    <tr>\n",
              "      <th>2</th>\n",
              "      <td>ATGTTTGTTTTTCTTGTTTTATTGCCACTAGTCTCTAGTCAGTGTG...</td>\n",
              "    </tr>\n",
              "    <tr>\n",
              "      <th>3</th>\n",
              "      <td>ATGTTTGTTTTTCTTGTTTTATTGCCACTAGTCTCTAGTCAGTGTG...</td>\n",
              "    </tr>\n",
              "    <tr>\n",
              "      <th>4</th>\n",
              "      <td>ATGTTTGTTTTTCTTGTTTTATTGCCACTAGTCTCTAGTCAGTGTG...</td>\n",
              "    </tr>\n",
              "  </tbody>\n",
              "</table>\n",
              "</div>"
            ],
            "text/plain": [
              "                                           Sequences\n",
              "0  ATGTTTGTTTTTCTTGTTTTATTGCCACTAGTTTCTAGTCAGTGTG...\n",
              "1  ATGTTGTTTTTCTTCTTTTTACACTTTGCCTTAGTAAATTCACAAT...\n",
              "2  ATGTTTGTTTTTCTTGTTTTATTGCCACTAGTCTCTAGTCAGTGTG...\n",
              "3  ATGTTTGTTTTTCTTGTTTTATTGCCACTAGTCTCTAGTCAGTGTG...\n",
              "4  ATGTTTGTTTTTCTTGTTTTATTGCCACTAGTCTCTAGTCAGTGTG..."
            ]
          },
          "metadata": {
            "tags": []
          },
          "execution_count": 3
        }
      ]
    },
    {
      "cell_type": "code",
      "metadata": {
        "id": "RFJjXogcDz1j",
        "colab_type": "code",
        "outputId": "0e9ae1c1-90dc-4b95-d632-dfc6b1802d81",
        "colab": {
          "base_uri": "https://localhost:8080/",
          "height": 225
        }
      },
      "source": [
        "seqs['Sequences']"
      ],
      "execution_count": 4,
      "outputs": [
        {
          "output_type": "execute_result",
          "data": {
            "text/plain": [
              "0      ATGTTTGTTTTTCTTGTTTTATTGCCACTAGTTTCTAGTCAGTGTG...\n",
              "1      ATGTTGTTTTTCTTCTTTTTACACTTTGCCTTAGTAAATTCACAAT...\n",
              "2      ATGTTTGTTTTTCTTGTTTTATTGCCACTAGTCTCTAGTCAGTGTG...\n",
              "3      ATGTTTGTTTTTCTTGTTTTATTGCCACTAGTCTCTAGTCAGTGTG...\n",
              "4      ATGTTTGTTTTTCTTGTTTTATTGCCACTAGTCTCTAGTCAGTGTG...\n",
              "                             ...                        \n",
              "788    ATGGTGGACAGCCTTTGTTACTAATGTGAATGCGTCATCATCTGAA...\n",
              "789    ATGGTTATGTCATGCATGCAAATTACATATTTTGGAGGAATACAAA...\n",
              "790    ATGATATGATTTTATCTCTTCTTAGTAAAGGTAGACTTATAATTAG...\n",
              "791    ATGGATGTTCCGTGGCTATAAAGATAACAGAACATTCTTGGAATGC...\n",
              "792    ATGGAAAGTGAGTTCAGAGTTTATTCTAGTGCGAATAATTGCACTT...\n",
              "Name: Sequences, Length: 793, dtype: object"
            ]
          },
          "metadata": {
            "tags": []
          },
          "execution_count": 4
        }
      ]
    },
    {
      "cell_type": "code",
      "metadata": {
        "id": "zZtJ5MscFNzf",
        "colab_type": "code",
        "outputId": "525866fe-3cac-4bc7-bc64-cf2df6c3761e",
        "colab": {
          "base_uri": "https://localhost:8080/",
          "height": 35
        }
      },
      "source": [
        "seq_list = seqs['Sequences'].tolist()\n",
        "len(seq_list[0])"
      ],
      "execution_count": 5,
      "outputs": [
        {
          "output_type": "execute_result",
          "data": {
            "text/plain": [
              "3819"
            ]
          },
          "metadata": {
            "tags": []
          },
          "execution_count": 5
        }
      ]
    },
    {
      "cell_type": "code",
      "metadata": {
        "id": "TnoePzOAHi-i",
        "colab_type": "code",
        "outputId": "ea543a2b-9af4-4118-d921-6546816a9e76",
        "colab": {
          "base_uri": "https://localhost:8080/",
          "height": 35
        }
      },
      "source": [
        "#ignore \n",
        "combined = ''.join(seq_list)\n",
        "print('Total characters: {}'.format(len(combined)))"
      ],
      "execution_count": 6,
      "outputs": [
        {
          "output_type": "stream",
          "text": [
            "Total characters: 3010860\n"
          ],
          "name": "stdout"
        }
      ]
    },
    {
      "cell_type": "code",
      "metadata": {
        "id": "iCbtZSxwJNUs",
        "colab_type": "code",
        "outputId": "5a48a8a0-99d6-407d-aa3a-ddb9d1fbde2e",
        "colab": {
          "base_uri": "https://localhost:8080/",
          "height": 72
        }
      },
      "source": [
        "vocab = sorted(set(combined))\n",
        "print(vocab)\n",
        "# Creating a mapping from unique characters to indices\n",
        "char2idx = {u:i for i, u in enumerate(vocab)}\n",
        "idx2char = np.array(vocab)\n",
        "\n",
        "for i, seq in enumerate(seq_list):\n",
        "  seq_list[i] = np.array([char2idx[c] for c in seq])\n",
        "print(seq_list)"
      ],
      "execution_count": 7,
      "outputs": [
        {
          "output_type": "stream",
          "text": [
            "['A', 'C', 'G', 'T']\n",
            "[array([0, 3, 2, ..., 3, 3, 0]), array([0, 3, 2, ..., 3, 3, 0]), array([0, 3, 2, ..., 0, 1, 0]), array([0, 3, 2, ..., 0, 1, 0]), array([0, 3, 2, ..., 0, 1, 0]), array([0, 3, 2, ..., 0, 1, 0]), array([0, 3, 2, ..., 0, 1, 0]), array([0, 3, 2, ..., 0, 1, 0]), array([0, 3, 2, ..., 0, 1, 0]), array([0, 3, 2, ..., 0, 1, 0]), array([0, 3, 2, ..., 0, 1, 0]), array([0, 3, 2, ..., 0, 1, 0]), array([0, 3, 2, ..., 0, 1, 0]), array([0, 3, 2, ..., 0, 1, 0]), array([0, 3, 2, ..., 0, 1, 0]), array([0, 3, 2, ..., 0, 1, 0]), array([0, 3, 2, ..., 0, 1, 0]), array([0, 3, 2, ..., 0, 1, 0]), array([0, 3, 2, ..., 2, 0, 0]), array([0, 3, 2, ..., 0, 1, 0]), array([0, 3, 2, ..., 0, 1, 0]), array([0, 3, 2, ..., 0, 1, 0]), array([0, 3, 2, ..., 0, 1, 0]), array([0, 3, 2, ..., 0, 1, 0]), array([0, 3, 2, ..., 0, 1, 0]), array([0, 3, 2, ..., 0, 1, 0]), array([0, 3, 2, ..., 3, 0, 0]), array([0, 3, 2, ..., 0, 1, 0]), array([0, 3, 2, ..., 0, 1, 0]), array([0, 3, 2, ..., 0, 1, 0]), array([0, 3, 2, ..., 0, 1, 0]), array([0, 3, 2, ..., 0, 1, 0]), array([0, 3, 2, ..., 0, 1, 0]), array([0, 3, 2, ..., 0, 1, 0]), array([0, 3, 2, ..., 0, 1, 0]), array([0, 3, 2, ..., 0, 1, 0]), array([0, 3, 2, ..., 0, 1, 0]), array([0, 3, 2, ..., 0, 0, 1]), array([0, 3, 2, ..., 0, 1, 0]), array([0, 3, 2, ..., 0, 1, 0]), array([0, 3, 2, ..., 0, 1, 0]), array([0, 3, 2, ..., 0, 1, 0]), array([0, 3, 2, ..., 0, 1, 0]), array([0, 3, 2, ..., 0, 1, 0]), array([0, 3, 2, ..., 0, 1, 0]), array([0, 3, 2, ..., 0, 1, 0]), array([0, 3, 2, ..., 0, 1, 0]), array([0, 3, 2, ..., 0, 1, 0]), array([0, 3, 2, ..., 0, 1, 0]), array([0, 3, 2, ..., 0, 1, 0]), array([0, 3, 2, ..., 0, 1, 0]), array([0, 3, 2, ..., 0, 1, 0]), array([0, 3, 2, ..., 0, 1, 0]), array([0, 3, 2, ..., 0, 1, 0]), array([0, 3, 2, ..., 0, 1, 0]), array([0, 3, 2, ..., 0, 1, 0]), array([0, 3, 2, ..., 0, 1, 0]), array([0, 3, 2, ..., 0, 1, 0]), array([0, 3, 2, ..., 0, 1, 0]), array([0, 3, 2, ..., 0, 1, 0]), array([0, 3, 2, ..., 0, 1, 0]), array([0, 3, 2, ..., 0, 1, 0]), array([0, 3, 2, ..., 0, 1, 0]), array([0, 3, 2, ..., 0, 1, 0]), array([0, 3, 2, ..., 0, 1, 0]), array([0, 3, 2, ..., 0, 1, 0]), array([0, 3, 2, ..., 0, 1, 0]), array([0, 3, 2, ..., 0, 1, 0]), array([0, 3, 2, ..., 0, 1, 0]), array([0, 3, 2, ..., 0, 1, 0]), array([0, 3, 2, ..., 0, 1, 0]), array([0, 3, 2, ..., 0, 1, 0]), array([0, 3, 2, ..., 0, 1, 0]), array([0, 3, 2, ..., 0, 1, 0]), array([0, 3, 2, ..., 0, 1, 0]), array([0, 3, 2, ..., 0, 1, 0]), array([0, 3, 2, ..., 0, 1, 0]), array([0, 3, 2, ..., 0, 1, 0]), array([0, 3, 2, ..., 0, 1, 0]), array([0, 3, 2, ..., 0, 1, 0]), array([0, 3, 2, ..., 0, 1, 0]), array([0, 3, 2, ..., 0, 1, 0]), array([0, 3, 2, ..., 0, 1, 0]), array([0, 3, 2, ..., 0, 1, 0]), array([0, 3, 2, ..., 0, 1, 0]), array([0, 3, 2, ..., 0, 1, 0]), array([0, 3, 2, ..., 0, 1, 0]), array([0, 3, 2, ..., 0, 1, 0]), array([0, 3, 2, ..., 0, 1, 0]), array([0, 3, 2, ..., 0, 1, 0]), array([0, 3, 2, ..., 0, 1, 0]), array([0, 3, 2, ..., 0, 1, 0]), array([0, 3, 2, ..., 0, 1, 0]), array([0, 3, 2, ..., 0, 1, 0]), array([0, 3, 2, ..., 0, 1, 0]), array([0, 3, 2, ..., 0, 1, 0]), array([0, 3, 2, ..., 0, 1, 0]), array([0, 3, 2, ..., 0, 1, 0]), array([0, 3, 2, ..., 0, 1, 0]), array([0, 3, 2, ..., 0, 1, 0]), array([0, 3, 2, ..., 0, 1, 0]), array([0, 3, 2, ..., 0, 1, 0]), array([0, 3, 2, ..., 0, 1, 0]), array([0, 3, 2, ..., 0, 1, 0]), array([0, 3, 2, ..., 0, 1, 0]), array([0, 3, 2, ..., 0, 1, 0]), array([0, 3, 2, ..., 0, 1, 0]), array([0, 3, 2, ..., 0, 1, 0]), array([0, 3, 2, ..., 0, 1, 0]), array([0, 3, 2, ..., 0, 1, 0]), array([0, 3, 2, ..., 0, 1, 0]), array([0, 3, 2, ..., 0, 1, 0]), array([0, 3, 2, ..., 0, 1, 0]), array([0, 3, 2, ..., 0, 1, 0]), array([0, 3, 2, ..., 0, 1, 0]), array([0, 3, 2, ..., 0, 1, 0]), array([0, 3, 2, ..., 0, 1, 0]), array([0, 3, 2, ..., 0, 1, 0]), array([0, 3, 2, ..., 0, 1, 0]), array([0, 3, 2, ..., 3, 0, 0]), array([0, 3, 2, ..., 0, 1, 0]), array([0, 3, 2, ..., 0, 1, 0]), array([0, 3, 2, ..., 0, 1, 0]), array([0, 3, 2, ..., 0, 1, 0]), array([0, 3, 2, ..., 0, 1, 0]), array([0, 3, 2, ..., 0, 1, 0]), array([0, 3, 2, ..., 0, 1, 0]), array([0, 3, 2, ..., 0, 1, 0]), array([0, 3, 2, ..., 0, 1, 0]), array([0, 3, 2, ..., 0, 1, 0]), array([0, 3, 2, ..., 0, 1, 0]), array([0, 3, 2, ..., 0, 1, 0]), array([0, 3, 2, ..., 3, 0, 0]), array([0, 3, 2, ..., 0, 1, 0]), array([0, 3, 2, ..., 0, 1, 0]), array([0, 3, 2, ..., 0, 1, 0]), array([0, 3, 2, ..., 0, 1, 0]), array([0, 3, 2, ..., 0, 1, 0]), array([0, 3, 2, ..., 0, 1, 0]), array([0, 3, 2, ..., 0, 1, 0]), array([0, 3, 2, ..., 0, 1, 0]), array([0, 3, 2, ..., 0, 1, 0]), array([0, 3, 2, ..., 0, 1, 0]), array([0, 3, 2, ..., 0, 1, 0]), array([0, 3, 2, ..., 0, 1, 0]), array([0, 3, 2, ..., 0, 1, 0]), array([0, 3, 2, ..., 0, 1, 0]), array([0, 3, 2, ..., 0, 1, 0]), array([0, 3, 2, ..., 0, 1, 0]), array([0, 3, 2, ..., 0, 1, 0]), array([0, 3, 2, ..., 0, 1, 0]), array([0, 3, 2, ..., 0, 1, 0]), array([0, 3, 2, ..., 0, 1, 0]), array([0, 3, 2, ..., 0, 1, 0]), array([0, 3, 2, ..., 0, 1, 0]), array([0, 3, 2, ..., 0, 1, 0]), array([0, 3, 2, ..., 3, 0, 1]), array([0, 3, 2, ..., 0, 1, 0]), array([0, 3, 2, ..., 0, 1, 0]), array([0, 3, 2, ..., 0, 1, 0]), array([0, 3, 2, ..., 0, 1, 0]), array([0, 3, 2, ..., 0, 1, 0]), array([0, 3, 2, ..., 0, 1, 0]), array([0, 3, 2, ..., 0, 1, 0]), array([0, 3, 2, ..., 0, 1, 0]), array([0, 3, 2, ..., 0, 1, 0]), array([0, 3, 2, ..., 0, 1, 0]), array([0, 3, 2, ..., 0, 1, 0]), array([0, 3, 2, ..., 0, 1, 0]), array([0, 3, 2, ..., 0, 1, 0]), array([0, 3, 2, ..., 0, 1, 0]), array([0, 3, 2, ..., 0, 1, 0]), array([0, 3, 2, ..., 0, 1, 0]), array([0, 3, 2, ..., 0, 1, 0]), array([0, 3, 2, ..., 0, 1, 0]), array([0, 3, 2, ..., 0, 1, 0]), array([0, 3, 2, ..., 0, 1, 0]), array([0, 3, 2, ..., 0, 1, 0]), array([0, 3, 2, ..., 0, 1, 0]), array([0, 3, 2, ..., 0, 1, 0]), array([0, 3, 2, ..., 0, 1, 0]), array([0, 3, 2, ..., 0, 1, 0]), array([0, 3, 2, ..., 0, 1, 0]), array([0, 3, 2, ..., 0, 1, 0]), array([0, 3, 2, ..., 0, 1, 0]), array([0, 3, 2, ..., 0, 1, 0]), array([0, 3, 2, ..., 0, 1, 0]), array([0, 3, 2, ..., 0, 1, 0]), array([0, 3, 2, ..., 0, 1, 0]), array([0, 3, 2, ..., 0, 1, 0]), array([0, 3, 2, ..., 0, 1, 0]), array([0, 3, 2, ..., 0, 1, 0]), array([0, 3, 2, ..., 0, 1, 0]), array([0, 3, 2, ..., 0, 1, 0]), array([0, 3, 2, ..., 0, 1, 0]), array([0, 3, 2, ..., 0, 1, 0]), array([0, 3, 2, ..., 0, 1, 0]), array([0, 3, 2, ..., 0, 1, 0]), array([0, 3, 2, ..., 0, 1, 0]), array([0, 3, 2, ..., 0, 1, 0]), array([0, 3, 2, ..., 0, 1, 0]), array([0, 3, 2, ..., 0, 1, 0]), array([0, 3, 2, ..., 0, 1, 0]), array([0, 3, 2, ..., 0, 1, 0]), array([0, 3, 2, ..., 0, 1, 0]), array([0, 3, 2, ..., 0, 1, 0]), array([0, 3, 2, ..., 0, 1, 0]), array([0, 3, 2, ..., 0, 1, 0]), array([0, 3, 2, ..., 0, 1, 0]), array([0, 3, 2, ..., 0, 1, 0]), array([0, 3, 2, ..., 0, 1, 0]), array([0, 3, 2, ..., 0, 1, 0]), array([0, 3, 2, ..., 0, 1, 0]), array([0, 3, 2, ..., 0, 1, 0]), array([0, 3, 2, ..., 0, 1, 0]), array([0, 3, 2, ..., 0, 1, 0]), array([0, 3, 2, ..., 0, 1, 0]), array([0, 3, 2, ..., 0, 1, 0]), array([0, 3, 2, ..., 0, 1, 0]), array([0, 3, 2, ..., 0, 1, 0]), array([0, 3, 2, ..., 0, 1, 0]), array([0, 3, 2, ..., 0, 1, 0]), array([0, 3, 2, ..., 0, 1, 0]), array([0, 3, 2, ..., 0, 1, 0]), array([0, 3, 2, ..., 0, 1, 0]), array([0, 3, 2, ..., 0, 1, 0]), array([0, 3, 2, ..., 0, 1, 0]), array([0, 3, 2, ..., 0, 1, 0]), array([0, 3, 2, ..., 0, 1, 0]), array([0, 3, 2, ..., 0, 1, 0]), array([0, 3, 2, ..., 0, 1, 0]), array([0, 3, 2, ..., 0, 1, 0]), array([0, 3, 2, ..., 0, 1, 0]), array([0, 3, 2, ..., 0, 1, 0]), array([0, 3, 2, ..., 0, 1, 0]), array([0, 3, 2, ..., 0, 1, 0]), array([0, 3, 2, ..., 0, 1, 0]), array([0, 3, 2, ..., 0, 1, 0]), array([0, 3, 2, ..., 0, 1, 0]), array([0, 3, 2, ..., 0, 1, 0]), array([0, 3, 2, ..., 0, 1, 0]), array([0, 3, 2, ..., 0, 1, 0]), array([0, 3, 2, ..., 0, 1, 0]), array([0, 3, 2, ..., 0, 1, 0]), array([0, 3, 2, ..., 0, 1, 0]), array([0, 3, 2, ..., 0, 1, 0]), array([0, 3, 2, ..., 0, 1, 0]), array([0, 3, 2, ..., 0, 1, 0]), array([0, 3, 2, ..., 0, 1, 0]), array([0, 3, 2, ..., 0, 1, 0]), array([0, 3, 2, ..., 0, 1, 0]), array([0, 3, 2, ..., 0, 1, 0]), array([0, 3, 2, ..., 0, 1, 0]), array([0, 3, 2, ..., 0, 1, 0]), array([0, 3, 2, ..., 0, 1, 0]), array([0, 3, 2, ..., 0, 1, 0]), array([0, 3, 2, ..., 0, 1, 0]), array([0, 3, 2, ..., 0, 1, 0]), array([0, 3, 2, ..., 0, 1, 0]), array([0, 3, 2, ..., 0, 1, 0]), array([0, 3, 2, ..., 0, 1, 0]), array([0, 3, 2, ..., 0, 1, 0]), array([0, 3, 2, ..., 0, 1, 0]), array([0, 3, 2, ..., 0, 1, 0]), array([0, 3, 2, ..., 0, 1, 0]), array([0, 3, 2, ..., 0, 1, 0]), array([0, 3, 2, ..., 0, 1, 0]), array([0, 3, 2, ..., 0, 1, 0]), array([0, 3, 2, ..., 0, 1, 0]), array([0, 3, 2, ..., 0, 1, 0]), array([0, 3, 2, ..., 0, 1, 0]), array([0, 3, 2, ..., 0, 1, 0]), array([0, 3, 2, ..., 0, 1, 0]), array([0, 3, 2, ..., 0, 1, 0]), array([0, 3, 2, ..., 0, 1, 0]), array([0, 3, 2, ..., 0, 1, 0]), array([0, 3, 2, ..., 0, 1, 0]), array([0, 3, 2, ..., 0, 1, 0]), array([0, 3, 2, ..., 0, 1, 0]), array([0, 3, 2, ..., 0, 1, 0]), array([0, 3, 2, ..., 0, 1, 0]), array([0, 3, 2, ..., 0, 1, 0]), array([0, 3, 2, ..., 0, 1, 0]), array([0, 3, 2, ..., 0, 1, 0]), array([0, 3, 2, ..., 0, 1, 0]), array([0, 3, 2, ..., 0, 1, 0]), array([0, 3, 2, ..., 0, 1, 0]), array([0, 3, 2, ..., 0, 1, 0]), array([0, 3, 2, ..., 0, 1, 0]), array([0, 3, 2, ..., 0, 1, 0]), array([0, 3, 2, ..., 0, 1, 0]), array([0, 3, 2, ..., 0, 1, 0]), array([0, 3, 2, ..., 0, 1, 0]), array([0, 3, 2, ..., 0, 1, 0]), array([0, 3, 2, ..., 0, 1, 0]), array([0, 3, 2, ..., 0, 1, 0]), array([0, 3, 2, ..., 0, 1, 0]), array([0, 3, 2, ..., 0, 1, 0]), array([0, 3, 2, ..., 0, 1, 0]), array([0, 3, 2, ..., 0, 1, 0]), array([0, 3, 2, ..., 0, 1, 0]), array([0, 3, 2, ..., 0, 1, 0]), array([0, 3, 2, ..., 0, 1, 0]), array([0, 3, 2, ..., 0, 1, 0]), array([0, 3, 2, ..., 0, 1, 0]), array([0, 3, 2, ..., 0, 1, 0]), array([0, 3, 2, ..., 0, 1, 0]), array([0, 3, 2, ..., 0, 1, 0]), array([0, 3, 2, ..., 0, 1, 0]), array([0, 3, 2, ..., 0, 1, 0]), array([0, 3, 2, ..., 0, 1, 0]), array([0, 3, 2, ..., 0, 1, 0]), array([0, 3, 2, ..., 0, 1, 0]), array([0, 3, 2, ..., 0, 1, 0]), array([0, 3, 2, ..., 0, 1, 0]), array([0, 3, 2, ..., 0, 1, 0]), array([0, 3, 2, ..., 0, 1, 0]), array([0, 3, 2, ..., 0, 1, 0]), array([0, 3, 2, ..., 0, 1, 0]), array([0, 3, 2, ..., 0, 1, 0]), array([0, 3, 2, ..., 0, 1, 0]), array([0, 3, 2, ..., 0, 1, 0]), array([0, 3, 2, ..., 0, 1, 0]), array([0, 3, 2, ..., 0, 1, 0]), array([0, 3, 2, ..., 0, 1, 0]), array([0, 3, 2, ..., 0, 1, 0]), array([0, 3, 2, ..., 0, 1, 0]), array([0, 3, 2, ..., 0, 1, 0]), array([0, 3, 2, ..., 0, 1, 0]), array([0, 3, 2, ..., 0, 1, 0]), array([0, 3, 2, ..., 0, 1, 0]), array([0, 3, 2, ..., 0, 1, 0]), array([0, 3, 2, ..., 0, 1, 0]), array([0, 3, 2, ..., 0, 1, 0]), array([0, 3, 2, ..., 0, 1, 0]), array([0, 3, 2, ..., 0, 1, 0]), array([0, 3, 2, ..., 0, 1, 0]), array([0, 3, 2, ..., 0, 1, 0]), array([0, 3, 2, ..., 0, 1, 0]), array([0, 3, 2, ..., 0, 1, 0]), array([0, 3, 2, ..., 0, 1, 0]), array([0, 3, 2, ..., 0, 1, 0]), array([0, 3, 2, ..., 0, 1, 0]), array([0, 3, 2, ..., 0, 1, 0]), array([0, 3, 2, ..., 0, 1, 0]), array([0, 3, 2, ..., 0, 1, 0]), array([0, 3, 2, ..., 0, 1, 0]), array([0, 3, 2, ..., 0, 1, 0]), array([0, 3, 2, ..., 0, 1, 0]), array([0, 3, 2, ..., 0, 1, 0]), array([0, 3, 2, ..., 0, 1, 0]), array([0, 3, 2, ..., 0, 1, 0]), array([0, 3, 2, ..., 0, 1, 0]), array([0, 3, 2, ..., 0, 1, 0]), array([0, 3, 2, ..., 0, 1, 0]), array([0, 3, 2, ..., 0, 1, 0]), array([0, 3, 2, ..., 0, 1, 0]), array([0, 3, 2, ..., 0, 1, 0]), array([0, 3, 2, ..., 0, 1, 0]), array([0, 3, 2, ..., 0, 1, 0]), array([0, 3, 2, ..., 0, 1, 0]), array([0, 3, 2, ..., 0, 1, 0]), array([0, 3, 2, ..., 0, 1, 0]), array([0, 3, 2, ..., 0, 1, 0]), array([0, 3, 2, ..., 0, 1, 0]), array([0, 3, 2, ..., 0, 1, 0]), array([0, 3, 2, ..., 0, 1, 0]), array([0, 3, 2, ..., 0, 1, 0]), array([0, 3, 2, ..., 0, 1, 0]), array([0, 3, 2, ..., 0, 1, 0]), array([0, 3, 2, ..., 0, 1, 0]), array([0, 3, 2, ..., 0, 1, 0]), array([0, 3, 2, ..., 0, 1, 0]), array([0, 3, 2, ..., 0, 1, 0]), array([0, 3, 2, ..., 0, 1, 0]), array([0, 3, 2, ..., 0, 1, 0]), array([0, 3, 2, ..., 0, 1, 0]), array([0, 3, 2, ..., 0, 1, 0]), array([0, 3, 2, ..., 0, 1, 0]), array([0, 3, 2, ..., 0, 1, 0]), array([0, 3, 2, ..., 0, 1, 0]), array([0, 3, 2, ..., 0, 1, 0]), array([0, 3, 2, ..., 0, 1, 0]), array([0, 3, 2, ..., 0, 1, 0]), array([0, 3, 2, ..., 0, 1, 0]), array([0, 3, 2, ..., 0, 1, 0]), array([0, 3, 2, ..., 0, 1, 0]), array([0, 3, 2, ..., 0, 1, 0]), array([0, 3, 2, ..., 0, 1, 0]), array([0, 3, 2, ..., 0, 1, 0]), array([0, 3, 2, ..., 0, 1, 0]), array([0, 3, 2, ..., 0, 1, 0]), array([0, 3, 2, ..., 0, 1, 0]), array([0, 3, 2, ..., 0, 1, 0]), array([0, 3, 2, ..., 0, 1, 0]), array([0, 3, 2, ..., 0, 1, 0]), array([0, 3, 2, ..., 0, 1, 0]), array([0, 3, 2, ..., 0, 1, 0]), array([0, 3, 2, ..., 0, 1, 0]), array([0, 3, 2, ..., 0, 1, 0]), array([0, 3, 2, ..., 0, 1, 0]), array([0, 3, 2, ..., 0, 1, 0]), array([0, 3, 2, ..., 0, 1, 0]), array([0, 3, 2, ..., 0, 1, 0]), array([0, 3, 2, ..., 0, 1, 0]), array([0, 3, 2, ..., 0, 1, 0]), array([0, 3, 2, ..., 0, 1, 0]), array([0, 3, 2, ..., 0, 1, 0]), array([0, 3, 2, ..., 0, 1, 0]), array([0, 3, 2, ..., 0, 1, 0]), array([0, 3, 2, ..., 0, 1, 0]), array([0, 3, 2, ..., 0, 1, 0]), array([0, 3, 2, ..., 0, 1, 0]), array([0, 3, 2, ..., 0, 1, 0]), array([0, 3, 2, ..., 0, 1, 0]), array([0, 3, 2, ..., 0, 1, 0]), array([0, 3, 2, ..., 0, 1, 0]), array([0, 3, 2, ..., 0, 1, 0]), array([0, 3, 2, ..., 0, 1, 0]), array([0, 3, 2, ..., 0, 1, 0]), array([0, 3, 2, ..., 0, 1, 0]), array([0, 3, 2, ..., 0, 1, 0]), array([0, 3, 2, ..., 0, 1, 0]), array([0, 3, 2, ..., 0, 1, 0]), array([0, 3, 2, ..., 0, 1, 0]), array([0, 3, 2, ..., 0, 1, 0]), array([0, 3, 2, ..., 0, 1, 0]), array([0, 3, 2, ..., 0, 1, 0]), array([0, 3, 2, ..., 0, 1, 0]), array([0, 3, 2, ..., 0, 1, 0]), array([0, 3, 2, ..., 0, 1, 0]), array([0, 3, 2, ..., 0, 1, 0]), array([0, 3, 2, ..., 0, 1, 0]), array([0, 3, 2, ..., 0, 1, 0]), array([0, 3, 2, ..., 0, 1, 0]), array([0, 3, 2, ..., 0, 1, 0]), array([0, 3, 2, ..., 0, 1, 0]), array([0, 3, 2, ..., 0, 1, 0]), array([0, 3, 2, ..., 0, 1, 0]), array([0, 3, 2, ..., 0, 1, 0]), array([0, 3, 2, ..., 0, 1, 0]), array([0, 3, 2, ..., 0, 1, 0]), array([0, 3, 2, ..., 0, 1, 0]), array([0, 3, 2, ..., 0, 1, 0]), array([0, 3, 2, ..., 0, 1, 0]), array([0, 3, 2, ..., 0, 1, 0]), array([0, 3, 2, ..., 0, 1, 0]), array([0, 3, 2, ..., 0, 1, 0]), array([0, 3, 2, ..., 0, 1, 0]), array([0, 3, 2, ..., 0, 1, 0]), array([0, 3, 2, ..., 0, 1, 0]), array([0, 3, 2, ..., 0, 1, 0]), array([0, 3, 2, ..., 0, 1, 0]), array([0, 3, 2, ..., 0, 1, 0]), array([0, 3, 2, ..., 0, 1, 0]), array([0, 3, 2, ..., 0, 1, 0]), array([0, 3, 2, ..., 0, 1, 0]), array([0, 3, 2, ..., 0, 1, 0]), array([0, 3, 2, ..., 0, 1, 0]), array([0, 3, 2, ..., 0, 1, 0]), array([0, 3, 2, ..., 0, 1, 0]), array([0, 3, 2, ..., 0, 1, 0]), array([0, 3, 2, ..., 0, 1, 0]), array([0, 3, 2, ..., 0, 1, 0]), array([0, 3, 2, ..., 0, 1, 0]), array([0, 3, 2, ..., 0, 1, 0]), array([0, 3, 2, ..., 0, 1, 0]), array([0, 3, 2, ..., 0, 1, 0]), array([0, 3, 2, ..., 0, 1, 0]), array([0, 3, 2, ..., 0, 1, 0]), array([0, 3, 2, ..., 0, 1, 0]), array([0, 3, 2, ..., 0, 1, 0]), array([0, 3, 2, ..., 0, 1, 0]), array([0, 3, 2, ..., 0, 1, 0]), array([0, 3, 2, ..., 0, 1, 0]), array([0, 3, 2, ..., 0, 1, 0]), array([0, 3, 2, ..., 0, 1, 0]), array([0, 3, 2, ..., 0, 1, 0]), array([0, 3, 2, ..., 0, 1, 0]), array([0, 3, 2, ..., 0, 1, 0]), array([0, 3, 2, ..., 0, 1, 0]), array([0, 3, 2, ..., 0, 1, 0]), array([0, 3, 2, ..., 0, 1, 0]), array([0, 3, 2, ..., 0, 1, 0]), array([0, 3, 2, ..., 0, 1, 0]), array([0, 3, 2, ..., 0, 1, 0]), array([0, 3, 2, ..., 0, 1, 0]), array([0, 3, 2, ..., 0, 1, 0]), array([0, 3, 2, ..., 0, 1, 0]), array([0, 3, 2, ..., 0, 1, 0]), array([0, 3, 2, ..., 0, 1, 0]), array([0, 3, 2, ..., 0, 1, 0]), array([0, 3, 2, ..., 0, 1, 0]), array([0, 3, 2, ..., 0, 1, 0]), array([0, 3, 2, ..., 0, 1, 0]), array([0, 3, 2, ..., 0, 1, 0]), array([0, 3, 2, ..., 0, 1, 0]), array([0, 3, 2, ..., 0, 1, 0]), array([0, 3, 2, ..., 0, 1, 0]), array([0, 3, 2, ..., 0, 1, 0]), array([0, 3, 2, ..., 0, 1, 0]), array([0, 3, 2, ..., 0, 1, 0]), array([0, 3, 2, ..., 0, 1, 0]), array([0, 3, 2, ..., 0, 1, 0]), array([0, 3, 2, ..., 0, 1, 0]), array([0, 3, 2, ..., 0, 1, 0]), array([0, 3, 2, ..., 0, 1, 0]), array([0, 3, 2, ..., 0, 1, 0]), array([0, 3, 2, ..., 0, 1, 0]), array([0, 3, 2, ..., 0, 1, 0]), array([0, 3, 2, ..., 0, 1, 0]), array([0, 3, 2, ..., 0, 1, 0]), array([0, 3, 2, ..., 0, 1, 0]), array([0, 3, 2, ..., 0, 1, 0]), array([0, 3, 2, ..., 0, 1, 0]), array([0, 3, 2, ..., 0, 1, 0]), array([0, 3, 2, ..., 0, 1, 0]), array([0, 3, 2, ..., 0, 1, 0]), array([0, 3, 2, ..., 0, 1, 0]), array([0, 3, 2, ..., 0, 1, 0]), array([0, 3, 2, ..., 0, 1, 0]), array([0, 3, 2, ..., 0, 1, 0]), array([0, 3, 2, ..., 0, 1, 0]), array([0, 3, 2, ..., 0, 1, 0]), array([0, 3, 2, ..., 0, 1, 0]), array([0, 3, 2, ..., 0, 1, 0]), array([0, 3, 2, ..., 0, 1, 0]), array([0, 3, 2, ..., 0, 1, 0]), array([0, 3, 2, ..., 0, 1, 0]), array([0, 3, 2, ..., 0, 1, 0]), array([0, 3, 2, ..., 0, 1, 0]), array([0, 3, 2, ..., 0, 1, 0]), array([0, 3, 2, ..., 0, 1, 0]), array([0, 3, 2, ..., 0, 1, 0]), array([0, 3, 2, ..., 0, 1, 0]), array([0, 3, 2, ..., 0, 1, 0]), array([0, 3, 2, ..., 0, 1, 0]), array([0, 3, 2, ..., 0, 1, 0]), array([0, 3, 2, ..., 0, 1, 0]), array([0, 3, 2, ..., 0, 1, 0]), array([0, 3, 2, ..., 0, 1, 0]), array([0, 3, 2, ..., 0, 1, 0]), array([0, 3, 2, ..., 0, 1, 0]), array([0, 3, 2, ..., 0, 1, 0]), array([0, 3, 2, ..., 0, 1, 0]), array([0, 3, 2, ..., 0, 1, 0]), array([0, 3, 2, ..., 0, 1, 0]), array([0, 3, 2, ..., 0, 1, 0]), array([0, 3, 2, ..., 0, 1, 0]), array([0, 3, 2, ..., 0, 1, 0]), array([0, 3, 2, ..., 0, 1, 0]), array([0, 3, 2, ..., 0, 1, 0]), array([0, 3, 2, ..., 0, 1, 0]), array([0, 3, 2, ..., 0, 1, 0]), array([0, 3, 2, ..., 0, 1, 0]), array([0, 3, 2, ..., 0, 1, 0]), array([0, 3, 2, ..., 0, 1, 0]), array([0, 3, 2, ..., 0, 1, 0]), array([0, 3, 2, ..., 0, 1, 0]), array([0, 3, 2, ..., 0, 1, 0]), array([0, 3, 2, ..., 0, 1, 0]), array([0, 3, 2, ..., 0, 1, 0]), array([0, 3, 2, ..., 0, 1, 0]), array([0, 3, 2, ..., 0, 1, 0]), array([0, 3, 2, ..., 0, 1, 0]), array([0, 3, 2, ..., 0, 1, 0]), array([0, 3, 2, ..., 0, 1, 0]), array([0, 3, 2, ..., 0, 1, 0]), array([0, 3, 2, ..., 0, 1, 0]), array([0, 3, 2, ..., 0, 1, 0]), array([0, 3, 2, ..., 0, 1, 0]), array([0, 3, 2, ..., 0, 1, 0]), array([0, 3, 2, ..., 0, 1, 0]), array([0, 3, 2, ..., 0, 1, 0]), array([0, 3, 2, ..., 0, 1, 0]), array([0, 3, 2, ..., 0, 1, 0]), array([0, 3, 2, ..., 0, 1, 0]), array([0, 3, 2, ..., 0, 1, 0]), array([0, 3, 2, ..., 0, 1, 0]), array([0, 3, 2, ..., 0, 1, 0]), array([0, 3, 2, ..., 0, 1, 0]), array([0, 3, 2, ..., 0, 1, 0]), array([0, 3, 2, ..., 0, 1, 0]), array([0, 3, 2, ..., 0, 1, 0]), array([0, 3, 2, ..., 0, 1, 0]), array([0, 3, 2, ..., 0, 1, 0]), array([0, 3, 2, ..., 0, 1, 0]), array([0, 3, 2, ..., 0, 1, 0]), array([0, 3, 2, ..., 0, 1, 0]), array([0, 3, 2, ..., 0, 1, 0]), array([0, 3, 2, ..., 0, 1, 0]), array([0, 3, 2, ..., 3, 2, 3]), array([0, 3, 2, ..., 0, 1, 0]), array([0, 3, 2, ..., 0, 1, 0]), array([0, 3, 2, ..., 0, 1, 0]), array([0, 3, 2, ..., 0, 1, 0]), array([0, 3, 2, ..., 0, 1, 0]), array([0, 3, 2, ..., 0, 1, 0]), array([0, 3, 2, ..., 0, 1, 0]), array([0, 3, 2, ..., 0, 1, 0]), array([0, 3, 2, ..., 0, 1, 0]), array([0, 3, 2, ..., 0, 1, 0]), array([0, 3, 2, ..., 0, 1, 0]), array([0, 3, 2, ..., 0, 1, 0]), array([0, 3, 2, ..., 0, 1, 0]), array([0, 3, 2, ..., 0, 1, 0]), array([0, 3, 2, ..., 0, 1, 0]), array([0, 3, 2, ..., 0, 1, 0]), array([0, 3, 2, ..., 0, 1, 0]), array([0, 3, 2, ..., 3, 0, 0]), array([0, 3, 2, ..., 0, 1, 0]), array([0, 3, 2, ..., 0, 1, 0]), array([0, 3, 2, ..., 0, 1, 0]), array([0, 3, 2, ..., 0, 1, 0]), array([0, 3, 2, ..., 0, 1, 0]), array([0, 3, 2, ..., 0, 1, 0]), array([0, 3, 2, ..., 0, 1, 0]), array([0, 3, 2, ..., 0, 1, 0]), array([0, 3, 2, ..., 0, 1, 0]), array([0, 3, 2, ..., 0, 1, 0]), array([0, 3, 2, ..., 0, 1, 0]), array([0, 3, 2, ..., 0, 1, 0]), array([0, 3, 2, ..., 0, 1, 0]), array([0, 3, 2, ..., 0, 1, 0]), array([0, 3, 2, ..., 0, 1, 0]), array([0, 3, 2, ..., 3, 0, 0]), array([0, 3, 2, ..., 0, 1, 0]), array([0, 3, 2, ..., 0, 1, 0]), array([0, 3, 2, ..., 0, 1, 0]), array([0, 3, 2, ..., 0, 1, 0]), array([0, 3, 2, ..., 0, 1, 0]), array([0, 3, 2, ..., 0, 1, 0]), array([0, 3, 2, ..., 0, 1, 0]), array([0, 3, 2, ..., 0, 1, 0]), array([0, 3, 2, ..., 0, 1, 0]), array([0, 3, 2, ..., 0, 1, 0]), array([0, 3, 2, ..., 0, 1, 0]), array([0, 3, 2, ..., 0, 1, 0]), array([0, 3, 2, ..., 0, 1, 0]), array([0, 3, 2, ..., 0, 1, 0]), array([0, 3, 2, ..., 0, 1, 0]), array([0, 3, 2, ..., 0, 1, 0]), array([0, 3, 2, ..., 0, 1, 0]), array([0, 3, 2, ..., 0, 1, 0]), array([0, 3, 2, ..., 0, 1, 0]), array([0, 3, 2, ..., 0, 1, 0]), array([0, 3, 2, ..., 0, 1, 0]), array([0, 3, 2, ..., 0, 1, 0]), array([0, 3, 2, ..., 0, 1, 0]), array([0, 3, 2, ..., 3, 0, 0]), array([0, 3, 2, ..., 0, 1, 0]), array([0, 3, 2, ..., 0, 1, 0]), array([0, 3, 2, ..., 0, 1, 0]), array([0, 3, 2, ..., 0, 1, 0]), array([0, 3, 2, ..., 0, 1, 0]), array([0, 3, 2, ..., 0, 1, 0]), array([0, 3, 2, ..., 0, 1, 0]), array([0, 3, 2, ..., 0, 1, 0]), array([0, 3, 2, ..., 0, 1, 0]), array([0, 3, 2, ..., 0, 1, 0]), array([0, 3, 2, ..., 0, 1, 0]), array([0, 3, 2, ..., 0, 1, 0]), array([0, 3, 2, ..., 0, 1, 0]), array([0, 3, 2, ..., 0, 1, 0]), array([0, 3, 2, ..., 0, 1, 0]), array([0, 3, 2, ..., 0, 1, 0]), array([0, 3, 2, ..., 0, 1, 0]), array([0, 3, 2, ..., 0, 1, 0]), array([0, 3, 2, ..., 0, 1, 0]), array([0, 3, 2, ..., 0, 1, 0]), array([0, 3, 2, ..., 0, 1, 0]), array([0, 3, 2, ..., 0, 1, 0]), array([0, 3, 2, ..., 0, 1, 0]), array([0, 3, 2, ..., 0, 1, 0]), array([0, 3, 2, ..., 0, 1, 0]), array([0, 3, 2, ..., 0, 1, 0]), array([0, 3, 2, ..., 0, 1, 0]), array([0, 3, 2, ..., 0, 1, 0]), array([0, 3, 2, ..., 0, 1, 0]), array([0, 3, 2, ..., 0, 1, 0]), array([0, 3, 2, ..., 0, 1, 0]), array([0, 3, 2, ..., 0, 1, 0]), array([0, 3, 2, ..., 0, 1, 0]), array([0, 3, 2, ..., 0, 1, 0]), array([0, 3, 2, ..., 0, 1, 0]), array([0, 3, 2, ..., 0, 1, 0]), array([0, 3, 2, ..., 0, 1, 0]), array([0, 3, 2, ..., 0, 1, 0]), array([0, 3, 2, ..., 0, 1, 0]), array([0, 3, 2, ..., 0, 1, 0]), array([0, 3, 2, ..., 0, 1, 0]), array([0, 3, 2, ..., 0, 1, 0]), array([0, 3, 2, ..., 0, 1, 0]), array([0, 3, 2, ..., 0, 1, 0]), array([0, 3, 2, ..., 0, 1, 0]), array([0, 3, 2, ..., 0, 1, 0]), array([0, 3, 2, ..., 0, 1, 0]), array([0, 3, 2, ..., 0, 1, 0]), array([0, 3, 2, ..., 0, 1, 0]), array([0, 3, 2, ..., 0, 1, 0]), array([0, 3, 2, ..., 0, 1, 0]), array([0, 3, 2, ..., 0, 1, 0]), array([0, 3, 2, ..., 0, 1, 0]), array([0, 3, 2, ..., 0, 1, 0]), array([0, 3, 2, ..., 0, 1, 0]), array([0, 3, 2, ..., 0, 1, 0]), array([0, 3, 2, ..., 0, 1, 0]), array([0, 3, 2, ..., 0, 1, 0]), array([0, 3, 2, ..., 0, 1, 0]), array([0, 3, 2, ..., 0, 1, 0]), array([0, 3, 2, ..., 0, 1, 0]), array([0, 3, 2, ..., 0, 1, 0]), array([0, 3, 2, ..., 0, 1, 0]), array([0, 3, 2, ..., 0, 1, 0]), array([0, 3, 2, ..., 0, 1, 0]), array([0, 3, 2, ..., 0, 1, 0]), array([0, 3, 2, ..., 0, 1, 0]), array([0, 3, 2, ..., 0, 1, 0]), array([0, 3, 2, ..., 0, 1, 0]), array([0, 3, 2, ..., 0, 1, 0]), array([0, 3, 2, ..., 0, 1, 0]), array([0, 3, 2, ..., 0, 1, 0]), array([0, 3, 2, ..., 0, 1, 0]), array([0, 3, 2, ..., 0, 1, 0]), array([0, 3, 2, ..., 0, 1, 0]), array([0, 3, 2, ..., 0, 1, 0]), array([0, 3, 2, ..., 0, 1, 0]), array([0, 3, 2, ..., 0, 1, 0]), array([0, 3, 2, ..., 0, 1, 0]), array([0, 3, 2, ..., 0, 1, 0]), array([0, 3, 2, ..., 0, 1, 0]), array([0, 3, 2, ..., 0, 1, 0]), array([0, 3, 2, ..., 0, 1, 0]), array([0, 3, 2, ..., 0, 1, 0]), array([0, 3, 2, ..., 0, 1, 0]), array([0, 3, 2, ..., 0, 1, 0]), array([0, 3, 2, ..., 0, 1, 0]), array([0, 3, 2, ..., 0, 1, 0]), array([0, 3, 2, ..., 0, 1, 0]), array([0, 3, 2, ..., 0, 1, 0]), array([0, 3, 2, ..., 0, 1, 0]), array([0, 3, 2, ..., 0, 1, 0]), array([0, 3, 2, ..., 0, 1, 0]), array([0, 3, 2, ..., 0, 1, 0]), array([0, 3, 2, ..., 0, 1, 0]), array([0, 3, 2, ..., 0, 1, 0]), array([0, 3, 2, ..., 0, 1, 0]), array([0, 3, 2, ..., 0, 1, 0]), array([0, 3, 2, ..., 0, 1, 0]), array([0, 3, 2, ..., 0, 1, 0]), array([0, 3, 2, ..., 0, 1, 0]), array([0, 3, 2, ..., 0, 1, 0]), array([0, 3, 2, ..., 0, 1, 0]), array([0, 3, 2, ..., 0, 1, 0]), array([0, 3, 2, ..., 0, 1, 0]), array([0, 3, 2, ..., 0, 1, 0]), array([0, 3, 2, ..., 0, 1, 0]), array([0, 3, 2, ..., 0, 1, 0]), array([0, 3, 2, ..., 0, 1, 0]), array([0, 3, 2, ..., 0, 1, 0]), array([0, 3, 2, ..., 0, 1, 0]), array([0, 3, 2, ..., 0, 1, 0]), array([0, 3, 2, ..., 0, 1, 0]), array([0, 3, 2, ..., 0, 1, 0]), array([0, 3, 2, ..., 0, 1, 0]), array([0, 3, 2, ..., 0, 1, 0]), array([0, 3, 2, ..., 0, 1, 0]), array([0, 3, 2, ..., 0, 1, 0]), array([0, 3, 2, ..., 0, 1, 0]), array([0, 3, 2, ..., 0, 1, 0]), array([0, 3, 2, ..., 0, 1, 0]), array([0, 3, 2, ..., 0, 1, 0]), array([0, 3, 2, ..., 0, 1, 0]), array([0, 3, 2, ..., 0, 1, 0]), array([0, 3, 2, ..., 0, 1, 0]), array([0, 3, 2, ..., 0, 1, 0]), array([0, 3, 2, ..., 0, 1, 0]), array([0, 3, 2, ..., 0, 1, 0]), array([0, 3, 2, ..., 0, 1, 0]), array([0, 3, 2, ..., 0, 1, 0]), array([0, 3, 2, ..., 0, 1, 0]), array([0, 3, 2, ..., 0, 1, 0]), array([0, 3, 2, ..., 0, 1, 0]), array([0, 3, 2, ..., 0, 1, 0]), array([0, 3, 2, ..., 2, 0, 3]), array([0, 3, 2, ..., 2, 1, 0]), array([0, 3, 2, ..., 2, 1, 0]), array([0, 3, 2, ..., 0, 1, 3]), array([0, 3, 2, ..., 0, 0, 2]), array([0, 3, 2, ..., 3, 3, 3]), array([0, 3, 2, ..., 0, 1, 3]), array([0, 3, 2, ..., 0, 0, 3]), array([0, 3, 2, ..., 0, 1, 0])]\n"
          ],
          "name": "stdout"
        }
      ]
    },
    {
      "cell_type": "code",
      "metadata": {
        "id": "IeqQBl8gYA0V",
        "colab_type": "code",
        "outputId": "bd10ff45-6483-4041-d621-e7f809dcee3b",
        "colab": {
          "base_uri": "https://localhost:8080/",
          "height": 35
        }
      },
      "source": [
        "len(seq_list)"
      ],
      "execution_count": 8,
      "outputs": [
        {
          "output_type": "execute_result",
          "data": {
            "text/plain": [
              "793"
            ]
          },
          "metadata": {
            "tags": []
          },
          "execution_count": 8
        }
      ]
    },
    {
      "cell_type": "code",
      "metadata": {
        "id": "cSNEbXb6Kac4",
        "colab_type": "code",
        "outputId": "ded7856c-a3f5-457a-b5c0-6d944a23547b",
        "colab": {
          "base_uri": "https://localhost:8080/",
          "height": 139
        }
      },
      "source": [
        "# The maximum length sentence we want for a single input in characters\n",
        "seq_length = 300                                      #!!!\n",
        "examples_per_epoch = len(combined)//(seq_length+1)    #!!!\n",
        "\n",
        "# Create training examples / targets \n",
        "char_datasets = list(range(len(seq_list)))\n",
        "for i, seq in enumerate(seq_list):\n",
        "  char_datasets[i] = tf.data.Dataset.from_tensor_slices(seq_list[i])\n",
        "\n",
        "for i in char_datasets[0].take(7):\n",
        "  print(idx2char[i.numpy()])"
      ],
      "execution_count": 9,
      "outputs": [
        {
          "output_type": "stream",
          "text": [
            "A\n",
            "T\n",
            "G\n",
            "T\n",
            "T\n",
            "T\n",
            "G\n"
          ],
          "name": "stdout"
        }
      ]
    },
    {
      "cell_type": "code",
      "metadata": {
        "id": "VFQQshkQR_Yd",
        "colab_type": "code",
        "outputId": "fbb56507-c3bb-484b-b180-0a78a0fe4d77",
        "colab": {
          "base_uri": "https://localhost:8080/",
          "height": 124
        }
      },
      "source": [
        "sequences_list = list(range(len(char_datasets)))\n",
        "for i, char_dataset in enumerate(char_datasets):\n",
        "  sequences_list[i] = char_dataset.batch(seq_length+1, drop_remainder=True)  #!!!\n",
        "# drop_remainder -> whether the last batch should be dropped in the case it has fewer than batch_size elements; the default behavior is not to drop the smaller batch\n",
        "for item in sequences_list[0].take(5):\n",
        "  print(repr(''.join(idx2char[item.numpy()])))"
      ],
      "execution_count": 10,
      "outputs": [
        {
          "output_type": "stream",
          "text": [
            "'ATGTTTGTTTTTCTTGTTTTATTGCCACTAGTTTCTAGTCAGTGTGTTAATCTAACAACTAGAACTCAGTTACCTCCTGCATACACCAACTCATCCACCCGTGGTGTCTATTACCCTGACAAAGTTTTCAGATCTTCAGTTTTACATTTAACTCAGGATTTGTTTTTACCTTTCTTCTCCAATGTGACCTGGTTCCATGCTATACATGTTTCAGGGACCAATGGTATTAAAAGGTTTGATAACCCAGTTCTGCCATTCAACGATGGCGTCTATTTTGCTTCCACTGAGAAGTCTAATATAA'\n",
            "'TAAGAGGATGGATTTTTGGTACTACCTTAGATTCGAAGACCCAGTCTCTACTTATTGTTAATAACGCTACTAATGTTGTTATTAAAGTCTGTGAATTTCAATTTTGTAATGATCCATTTTTGGGTGTTTATTACCACAAAAACAACAAAAGTTGGATGGAAAGTGAGTTCAGAGTTTACTCTAGTGCGAATAATTGCACTTTTGAGTATGTCTCTCAGCCTTTTCTTATGGACCTTGAAGGAAAACAGGGTAATTTCAAAAATCTTAGGGAATTCGTGTTTAAGAATATTGATGGTTATTT'\n",
            "'CAAAATATATTCTAAACATACGCCTATTAATTTAGTGCGTGATCTTCCCCCTGGTTTTTCAGCTTTAGAACCATTGGTAGATCTGCCAATAGGTATTAACATCACTAGGTTTCAAACTTTACTTGCTTTACATAGAAGCTATTTGACTCCTGGTGATTCTTCTTCAGGTTGGACAGCTGGTGCTGCAGCTTATTATGTGGGTTATCTTCAACCAAGGACTTTTCTACTAAAATATAATGAGAATGGAACCATTACAGATGCTGTAGACTGTGCACTTGACCCTCTTTCAGAAACAAAGTGT'\n",
            "'ACGTTAAAATCCTTCACTGTTGAAAAAGGAATTTATCAAACCTCTAACTTTAGAGTCCAACCAACAGATTCTATTGTTAGATTCCCAAATATTACAAACTTATGTCCTTTTGGTGAAGTTTTTAACGCCACCACATTCGCATCAGTTTATGCTTGGAACAGAAAGAGAATTAGCAACTGTGTTGCTGATTACTCTGTCCTATATAATTCCACTTCATTTTCTACCTTTAAATGTTATGGAGTGTCTCCTACTAAATTAAATGATCTCTGCTTTACTAATGTTTATGCAGACTCATTTGTGA'\n",
            "'TTACAGGTGATGAAGTCAGACAAATTGCGCCAGGACAAACTGGAAAGATTGCTGACTACAATTATAAACTACCAGATGATTTTACTGGTTGTGTTATAGCTTGGAATTCTAAGCATATTGATGCAAAAGAGGGCGGTAATTTTAACTATCTTTACCGTCTCTTTAGAAAAGCTAATCTTAAACCCTTTGAGAGGGATATCTCAACTGAAATTTACCAAGCAGGCAGCAAACCTTGTAATGGTCAAACTGGTCTAAATTGCTACTACCCACTTTATAGATATGGATTTTACCCTACTGATGG'\n"
          ],
          "name": "stdout"
        }
      ]
    },
    {
      "cell_type": "code",
      "metadata": {
        "id": "9oAqXgcuj4uu",
        "colab_type": "code",
        "outputId": "7c20e9af-6dc2-4dad-a921-78c64f5463fa",
        "colab": {
          "base_uri": "https://localhost:8080/",
          "height": 35
        }
      },
      "source": [
        "len(sequences_list)"
      ],
      "execution_count": 11,
      "outputs": [
        {
          "output_type": "execute_result",
          "data": {
            "text/plain": [
              "793"
            ]
          },
          "metadata": {
            "tags": []
          },
          "execution_count": 11
        }
      ]
    },
    {
      "cell_type": "code",
      "metadata": {
        "id": "ZvFmHqjJZ4ng",
        "colab_type": "code",
        "outputId": "c63e2b9a-006c-4eb4-b852-bf462562e2b3",
        "colab": {
          "base_uri": "https://localhost:8080/",
          "height": 35
        }
      },
      "source": [
        "a = sequences_list[0]\n",
        "for i in sequences_list[1:]:\n",
        "  a = a.concatenate(i)\n",
        "a "
      ],
      "execution_count": 12,
      "outputs": [
        {
          "output_type": "execute_result",
          "data": {
            "text/plain": [
              "<ConcatenateDataset shapes: (301,), types: tf.int64>"
            ]
          },
          "metadata": {
            "tags": []
          },
          "execution_count": 12
        }
      ]
    },
    {
      "cell_type": "code",
      "metadata": {
        "id": "GxBZ3fClX-th",
        "colab_type": "code",
        "outputId": "f287df97-3ca9-4377-d126-deeeca92d9cc",
        "colab": {
          "base_uri": "https://localhost:8080/",
          "height": 35
        }
      },
      "source": [
        "def split_input_target(chunk):\n",
        "    input_text = chunk[:-1]\n",
        "    target_text = chunk[1:]\n",
        "    return input_text, target_text\n",
        "\n",
        "dataset = a.map(split_input_target)\n",
        "dataset"
      ],
      "execution_count": 13,
      "outputs": [
        {
          "output_type": "execute_result",
          "data": {
            "text/plain": [
              "<MapDataset shapes: ((300,), (300,)), types: (tf.int64, tf.int64)>"
            ]
          },
          "metadata": {
            "tags": []
          },
          "execution_count": 13
        }
      ]
    },
    {
      "cell_type": "code",
      "metadata": {
        "id": "f7RWUDRnX4RF",
        "colab_type": "code",
        "colab": {}
      },
      "source": [
        "import sys\n",
        "sys.setrecursionlimit(10000)"
      ],
      "execution_count": 0,
      "outputs": []
    },
    {
      "cell_type": "code",
      "metadata": {
        "id": "7toHTu7Lj_ge",
        "colab_type": "code",
        "outputId": "79058a76-361b-4f4e-c994-b858175fd9b8",
        "colab": {
          "base_uri": "https://localhost:8080/",
          "height": 72
        }
      },
      "source": [
        "for input_example, target_example in  dataset.take(1):\n",
        "  print ('Input data: ', repr(''.join(idx2char[input_example.numpy()])))\n",
        "  print ('Target data:', repr(''.join(idx2char[target_example.numpy()])))"
      ],
      "execution_count": 14,
      "outputs": [
        {
          "output_type": "stream",
          "text": [
            "Input data:  'ATGTTTGTTTTTCTTGTTTTATTGCCACTAGTTTCTAGTCAGTGTGTTAATCTAACAACTAGAACTCAGTTACCTCCTGCATACACCAACTCATCCACCCGTGGTGTCTATTACCCTGACAAAGTTTTCAGATCTTCAGTTTTACATTTAACTCAGGATTTGTTTTTACCTTTCTTCTCCAATGTGACCTGGTTCCATGCTATACATGTTTCAGGGACCAATGGTATTAAAAGGTTTGATAACCCAGTTCTGCCATTCAACGATGGCGTCTATTTTGCTTCCACTGAGAAGTCTAATATA'\n",
            "Target data: 'TGTTTGTTTTTCTTGTTTTATTGCCACTAGTTTCTAGTCAGTGTGTTAATCTAACAACTAGAACTCAGTTACCTCCTGCATACACCAACTCATCCACCCGTGGTGTCTATTACCCTGACAAAGTTTTCAGATCTTCAGTTTTACATTTAACTCAGGATTTGTTTTTACCTTTCTTCTCCAATGTGACCTGGTTCCATGCTATACATGTTTCAGGGACCAATGGTATTAAAAGGTTTGATAACCCAGTTCTGCCATTCAACGATGGCGTCTATTTTGCTTCCACTGAGAAGTCTAATATAA'\n"
          ],
          "name": "stdout"
        }
      ]
    },
    {
      "cell_type": "code",
      "metadata": {
        "id": "DojUhtRBckpg",
        "colab_type": "code",
        "colab": {
          "base_uri": "https://localhost:8080/",
          "height": 277
        },
        "outputId": "d3c88ce9-d056-41a7-dfcb-11362ad977cb"
      },
      "source": [
        "for i, (input_idx, target_idx) in enumerate(zip(input_example[:5], target_example[:5])):\n",
        "    print(\"Step {:4d}\".format(i))\n",
        "    print(\"  input: {} ({:s})\".format(input_idx, repr(idx2char[input_idx])))\n",
        "    print(\"  expected output: {} ({:s})\".format(target_idx, repr(idx2char[target_idx])))"
      ],
      "execution_count": 15,
      "outputs": [
        {
          "output_type": "stream",
          "text": [
            "Step    0\n",
            "  input: 0 ('A')\n",
            "  expected output: 3 ('T')\n",
            "Step    1\n",
            "  input: 3 ('T')\n",
            "  expected output: 2 ('G')\n",
            "Step    2\n",
            "  input: 2 ('G')\n",
            "  expected output: 3 ('T')\n",
            "Step    3\n",
            "  input: 3 ('T')\n",
            "  expected output: 3 ('T')\n",
            "Step    4\n",
            "  input: 3 ('T')\n",
            "  expected output: 3 ('T')\n"
          ],
          "name": "stdout"
        }
      ]
    },
    {
      "cell_type": "code",
      "metadata": {
        "colab_type": "code",
        "id": "p2pGotuNzf-S",
        "outputId": "ff72c253-c39f-4f79-fe71-16f5c04a850a",
        "colab": {
          "base_uri": "https://localhost:8080/",
          "height": 35
        }
      },
      "source": [
        "# Batch size\n",
        "BATCH_SIZE = 48              #!!!\n",
        "\n",
        "# Buffer size to shuffle the dataset\n",
        "# (TF data is designed to work with possibly infinite sequences,\n",
        "# so it doesn't attempt to shuffle the entire sequence in memory. Instead,\n",
        "# it maintains a buffer in which it shuffles elements).\n",
        "BUFFER_SIZE = 10000          #!!!\n",
        "\n",
        "dataset = dataset.shuffle(BUFFER_SIZE).batch(BATCH_SIZE, drop_remainder=True)\n",
        "\n",
        "dataset"
      ],
      "execution_count": 16,
      "outputs": [
        {
          "output_type": "execute_result",
          "data": {
            "text/plain": [
              "<BatchDataset shapes: ((48, 300), (48, 300)), types: (tf.int64, tf.int64)>"
            ]
          },
          "metadata": {
            "tags": []
          },
          "execution_count": 16
        }
      ]
    },
    {
      "cell_type": "code",
      "metadata": {
        "id": "L6DCSS5AqP17",
        "colab_type": "code",
        "colab": {}
      },
      "source": [
        "# Length of the vocabulary in chars\n",
        "vocab_size = len(vocab)\n",
        "\n",
        "# The embedding dimension\n",
        "embedding_dim = 256\n",
        "\n",
        "# Number of RNN units\n",
        "rnn_units = 1024\n",
        "\n",
        "def build_model(vocab_size, embedding_dim, rnn_units, batch_size):\n",
        "  model = tf.keras.Sequential([\n",
        "    tf.keras.layers.Embedding(vocab_size, embedding_dim,\n",
        "                              batch_input_shape=[batch_size, None]),\n",
        "    tf.keras.layers.GRU(rnn_units,\n",
        "                        return_sequences=True,\n",
        "                        stateful=True,\n",
        "                        recurrent_initializer='glorot_uniform'),\n",
        "    tf.keras.layers.Dense(vocab_size)\n",
        "  ])\n",
        "  return model"
      ],
      "execution_count": 0,
      "outputs": []
    },
    {
      "cell_type": "code",
      "metadata": {
        "id": "h2XJJuLfqqmw",
        "colab_type": "code",
        "colab": {}
      },
      "source": [
        "model = build_model(\n",
        "  vocab_size = len(vocab),\n",
        "  embedding_dim=embedding_dim,\n",
        "  rnn_units=rnn_units,\n",
        "  batch_size=BATCH_SIZE)"
      ],
      "execution_count": 0,
      "outputs": []
    },
    {
      "cell_type": "code",
      "metadata": {
        "id": "XgqBwHlLc_JM",
        "colab_type": "code",
        "outputId": "d2d81f2e-8b12-4246-bcaf-0801bc8c26ea",
        "colab": {
          "base_uri": "https://localhost:8080/",
          "height": 35
        }
      },
      "source": [
        "for input_example_batch, target_example_batch in dataset.take(1):\n",
        "  example_batch_predictions = model(input_example_batch)\n",
        "  print(example_batch_predictions.shape, \"# (batch_size, sequence_length, vocab_size)\")"
      ],
      "execution_count": 19,
      "outputs": [
        {
          "output_type": "stream",
          "text": [
            "(48, 300, 4) # (batch_size, sequence_length, vocab_size)\n"
          ],
          "name": "stdout"
        }
      ]
    },
    {
      "cell_type": "code",
      "metadata": {
        "id": "XV3GpqhfdRs-",
        "colab_type": "code",
        "outputId": "8be0a64e-44ea-4086-c961-58faed034728",
        "colab": {
          "base_uri": "https://localhost:8080/",
          "height": 260
        }
      },
      "source": [
        "model.summary()"
      ],
      "execution_count": 20,
      "outputs": [
        {
          "output_type": "stream",
          "text": [
            "Model: \"sequential\"\n",
            "_________________________________________________________________\n",
            "Layer (type)                 Output Shape              Param #   \n",
            "=================================================================\n",
            "embedding (Embedding)        (48, None, 256)           1024      \n",
            "_________________________________________________________________\n",
            "gru (GRU)                    (48, None, 1024)          3938304   \n",
            "_________________________________________________________________\n",
            "dense (Dense)                (48, None, 4)             4100      \n",
            "=================================================================\n",
            "Total params: 3,943,428\n",
            "Trainable params: 3,943,428\n",
            "Non-trainable params: 0\n",
            "_________________________________________________________________\n"
          ],
          "name": "stdout"
        }
      ]
    },
    {
      "cell_type": "code",
      "metadata": {
        "id": "N4APrEAMdaZM",
        "colab_type": "code",
        "colab": {}
      },
      "source": [
        "sampled_indices = tf.random.categorical(example_batch_predictions[0], num_samples=1)\n",
        "sampled_indices = tf.squeeze(sampled_indices,axis=-1).numpy()"
      ],
      "execution_count": 0,
      "outputs": []
    },
    {
      "cell_type": "code",
      "metadata": {
        "id": "q4HSPY35ddqu",
        "colab_type": "code",
        "outputId": "92de4851-8bcc-4389-eb3b-caa24e631fc1",
        "colab": {
          "base_uri": "https://localhost:8080/",
          "height": 260
        }
      },
      "source": [
        "sampled_indices"
      ],
      "execution_count": 22,
      "outputs": [
        {
          "output_type": "execute_result",
          "data": {
            "text/plain": [
              "array([2, 3, 1, 3, 2, 2, 0, 2, 1, 1, 1, 2, 3, 2, 2, 0, 0, 3, 1, 1, 3, 1,\n",
              "       3, 0, 3, 2, 3, 3, 1, 2, 3, 1, 0, 2, 3, 2, 1, 3, 1, 3, 1, 2, 1, 0,\n",
              "       3, 1, 2, 2, 2, 0, 3, 3, 2, 2, 0, 0, 0, 3, 3, 1, 0, 3, 3, 1, 0, 1,\n",
              "       0, 3, 0, 3, 0, 2, 3, 0, 0, 1, 0, 1, 0, 3, 3, 2, 0, 1, 1, 3, 2, 1,\n",
              "       2, 1, 3, 2, 3, 0, 3, 2, 0, 0, 1, 3, 2, 0, 3, 3, 2, 2, 3, 0, 0, 1,\n",
              "       3, 3, 0, 3, 3, 2, 2, 0, 2, 0, 2, 0, 2, 0, 0, 2, 0, 2, 3, 0, 2, 2,\n",
              "       3, 0, 2, 2, 2, 1, 2, 1, 2, 2, 2, 1, 2, 0, 1, 1, 3, 3, 2, 1, 3, 0,\n",
              "       0, 1, 1, 1, 0, 2, 3, 2, 0, 1, 1, 2, 2, 2, 3, 2, 2, 3, 3, 0, 3, 1,\n",
              "       2, 0, 3, 1, 1, 3, 1, 0, 0, 0, 1, 0, 2, 2, 0, 3, 0, 3, 3, 0, 0, 2,\n",
              "       1, 3, 0, 3, 0, 1, 1, 3, 0, 1, 3, 1, 2, 1, 0, 0, 1, 1, 0, 3, 0, 3,\n",
              "       2, 1, 3, 0, 1, 3, 1, 2, 3, 0, 2, 1, 2, 3, 3, 3, 1, 3, 1, 1, 2, 0,\n",
              "       1, 1, 0, 0, 3, 0, 1, 1, 1, 1, 0, 0, 0, 2, 2, 3, 1, 3, 3, 3, 0, 3,\n",
              "       3, 2, 2, 3, 3, 1, 2, 3, 2, 0, 2, 3, 3, 2, 1, 2, 0, 3, 0, 2, 3, 2,\n",
              "       0, 2, 0, 0, 3, 2, 1, 1, 0, 2, 0, 1, 2, 3])"
            ]
          },
          "metadata": {
            "tags": []
          },
          "execution_count": 22
        }
      ]
    },
    {
      "cell_type": "code",
      "metadata": {
        "id": "cOxwkQwFdhXB",
        "colab_type": "code",
        "outputId": "c9df77be-ca74-4964-df4a-756cb4dfafff",
        "colab": {
          "base_uri": "https://localhost:8080/",
          "height": 124
        }
      },
      "source": [
        "print(\"Input: \\n\", repr(\"\".join(idx2char[input_example_batch[0]])))\n",
        "print()\n",
        "print(\"Next Char Predictions: \\n\", repr(\"\".join(idx2char[sampled_indices ])))"
      ],
      "execution_count": 23,
      "outputs": [
        {
          "output_type": "stream",
          "text": [
            "Input: \n",
            " 'AACACAAAGGAATTTTTATGAACCACAAATCATTACTACAGACAACACATTTGTGTCTGGTAACTGTGATGTTGTAATAGGAATTGTCAACAACACAGTTTATGATCCTTTGCAACCTGAATTAGACTCATTCAAGGAGGAGTTAGATAAATATTTTAAGAATCATACATCACCAGATGTTGATTTAGGTGACATCTCTGGCATTAATGCTTCAGTTGTAAACATTCAAAAAGAAATTGACCGCCTCAATGAGGTTGCCAAGAATTTAAATGAATCTCTCATCGATCTCCAAGAACTTGG'\n",
            "\n",
            "Next Char Predictions: \n",
            " 'GTCTGGAGCCCGTGGAATCCTCTATGTTCGTCAGTGCTCTCGCATCGGGATTGGAAATTCATTCACATATAGTAACACATTGACCTGCGCTGTATGAACTGATTGGTAACTTATTGGAGAGAGAAGAGTAGGTAGGGCGCGGGCGACCTTGCTAACCCAGTGACCGGGTGGTTATCGATCCTCAAACAGGATATTAAGCTATACCTACTCGCAACCATATGCTACTCGTAGCGTTTCTCCGACCAATACCCCAAAGGTCTTTATTGGTTCGTGAGTTGCGATAGTGAGAATGCCAGACGT'\n"
          ],
          "name": "stdout"
        }
      ]
    },
    {
      "cell_type": "code",
      "metadata": {
        "id": "pkWcNSl_dtON",
        "colab_type": "code",
        "colab": {}
      },
      "source": [
        "def loss(labels, logits):\n",
        "  return tf.keras.losses.sparse_categorical_crossentropy(labels, logits, from_logits=True)\n",
        "\n",
        "# example_batch_loss  = loss(target_example_batch, example_batch_predictions)\n",
        "# print(\"Prediction shape: \", example_batch_predictions.shape, \" # (batch_size, sequence_length, vocab_size)\")\n",
        "# print(\"scalar_loss:      \", example_batch_loss.numpy().mean())"
      ],
      "execution_count": 0,
      "outputs": []
    },
    {
      "cell_type": "code",
      "metadata": {
        "id": "r4YHCN4Kdzr4",
        "colab_type": "code",
        "colab": {}
      },
      "source": [
        "model.compile(optimizer='adam', loss=loss)"
      ],
      "execution_count": 0,
      "outputs": []
    },
    {
      "cell_type": "code",
      "metadata": {
        "id": "Y7Q6u0Bpd3rB",
        "colab_type": "code",
        "colab": {}
      },
      "source": [
        "# Directory where the checkpoints will be saved\n",
        "checkpoint_dir = './training_checkpoints'\n",
        "# Name of the checkpoint files\n",
        "checkpoint_prefix = os.path.join(checkpoint_dir, \"ckpt_{epoch}\")\n",
        "\n",
        "checkpoint_callback=tf.keras.callbacks.ModelCheckpoint(\n",
        "    filepath=checkpoint_prefix,\n",
        "    save_weights_only=True)"
      ],
      "execution_count": 0,
      "outputs": []
    },
    {
      "cell_type": "code",
      "metadata": {
        "id": "0J3lXl-deDVl",
        "colab_type": "code",
        "outputId": "d10d079c-37d6-48a4-f027-cafe9e1c31bd",
        "colab": {
          "base_uri": "https://localhost:8080/",
          "height": 364
        }
      },
      "source": [
        "EPOCHS=10\n",
        "history = model.fit(dataset, epochs=EPOCHS, callbacks=[checkpoint_callback])"
      ],
      "execution_count": 27,
      "outputs": [
        {
          "output_type": "stream",
          "text": [
            "Epoch 1/10\n",
            "197/197 [==============================] - 21s 105ms/step - loss: 0.9801\n",
            "Epoch 2/10\n",
            "197/197 [==============================] - 21s 104ms/step - loss: 0.0358\n",
            "Epoch 3/10\n",
            "197/197 [==============================] - 21s 105ms/step - loss: 0.0213\n",
            "Epoch 4/10\n",
            "197/197 [==============================] - 21s 104ms/step - loss: 0.0179\n",
            "Epoch 5/10\n",
            "197/197 [==============================] - 21s 105ms/step - loss: 0.0170\n",
            "Epoch 6/10\n",
            "197/197 [==============================] - 21s 105ms/step - loss: 0.0160\n",
            "Epoch 7/10\n",
            "197/197 [==============================] - 21s 105ms/step - loss: 0.0154\n",
            "Epoch 8/10\n",
            "197/197 [==============================] - 21s 105ms/step - loss: 0.0148\n",
            "Epoch 9/10\n",
            "197/197 [==============================] - 21s 104ms/step - loss: 0.0145\n",
            "Epoch 10/10\n",
            "197/197 [==============================] - 21s 105ms/step - loss: 0.0143\n"
          ],
          "name": "stdout"
        }
      ]
    },
    {
      "cell_type": "code",
      "metadata": {
        "id": "DUSeSsKi57k6",
        "colab_type": "code",
        "outputId": "b9b1b179-bde2-4147-ef5f-343d747ff934",
        "colab": {
          "base_uri": "https://localhost:8080/",
          "height": 260
        }
      },
      "source": [
        "tf.train.latest_checkpoint(checkpoint_dir)\n",
        "model = build_model(vocab_size, embedding_dim, rnn_units, batch_size=1)\n",
        "\n",
        "model.load_weights(tf.train.latest_checkpoint(checkpoint_dir))\n",
        "\n",
        "model.build(tf.TensorShape([1, None]))\n",
        "model.summary()"
      ],
      "execution_count": 28,
      "outputs": [
        {
          "output_type": "stream",
          "text": [
            "Model: \"sequential_1\"\n",
            "_________________________________________________________________\n",
            "Layer (type)                 Output Shape              Param #   \n",
            "=================================================================\n",
            "embedding_1 (Embedding)      (1, None, 256)            1024      \n",
            "_________________________________________________________________\n",
            "gru_1 (GRU)                  (1, None, 1024)           3938304   \n",
            "_________________________________________________________________\n",
            "dense_1 (Dense)              (1, None, 4)              4100      \n",
            "=================================================================\n",
            "Total params: 3,943,428\n",
            "Trainable params: 3,943,428\n",
            "Non-trainable params: 0\n",
            "_________________________________________________________________\n"
          ],
          "name": "stdout"
        }
      ]
    },
    {
      "cell_type": "code",
      "metadata": {
        "id": "wK7QycSBgQTI",
        "colab_type": "code",
        "colab": {}
      },
      "source": [
        "model.save(\"model.h5\")"
      ],
      "execution_count": 0,
      "outputs": []
    },
    {
      "cell_type": "code",
      "metadata": {
        "id": "ekXvK1HYViKE",
        "colab_type": "code",
        "colab": {}
      },
      "source": [
        "model.save_weights(\"model-weights.h5\")"
      ],
      "execution_count": 0,
      "outputs": []
    },
    {
      "cell_type": "code",
      "metadata": {
        "id": "iPYZzGwrVrtP",
        "colab_type": "code",
        "colab": {}
      },
      "source": [
        "model_json = model.to_json()\n",
        "with open(\"model.json\", \"w\") as json_file:\n",
        "    json_file.write(model_json)"
      ],
      "execution_count": 0,
      "outputs": []
    },
    {
      "cell_type": "code",
      "metadata": {
        "id": "oVh-cJWXw6pL",
        "colab_type": "code",
        "colab": {}
      },
      "source": [
        "def generate_text(model, start_string):\n",
        "  # Evaluation step (generating text using the learned model)\n",
        "\n",
        "  # Number of characters to generate (not including seed sequence)\n",
        "  num_generate = 3721                                       #!!!\n",
        "\n",
        "  # Converting our start string to numbers (vectorizing)\n",
        "  input_eval = [char2idx[s] for s in start_string]\n",
        "  input_eval = tf.expand_dims(input_eval, 0)\n",
        "\n",
        "  # Empty string to store our results\n",
        "  text_generated = []\n",
        "\n",
        "  # Low temperatures results in more predictable text.\n",
        "  # Higher temperatures results in more surprising text.\n",
        "  # Experiment to find the best setting.\n",
        "  temperature = 1.0                                           #!!!\n",
        "\n",
        "  # Here batch size == 1\n",
        "  model.reset_states()\n",
        "  for i in range(num_generate):\n",
        "      predictions = model(input_eval)\n",
        "      # remove the batch dimension\n",
        "      predictions = tf.squeeze(predictions, 0)\n",
        "\n",
        "      # using a categorical distribution to predict the character returned by the model\n",
        "      predictions = predictions / temperature\n",
        "      predicted_id = tf.random.categorical(predictions, num_samples=1)[-1,0].numpy()\n",
        "\n",
        "      # We pass the predicted character as the next input to the model\n",
        "      # along with the previous hidden state\n",
        "      input_eval = tf.expand_dims([predicted_id], 0)\n",
        "\n",
        "      text_generated.append(idx2char[predicted_id])\n",
        "\n",
        "  return (start_string + ''.join(text_generated))"
      ],
      "execution_count": 0,
      "outputs": []
    }
  ]
}