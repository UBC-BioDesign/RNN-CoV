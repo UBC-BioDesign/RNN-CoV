{
  "nbformat": 4,
  "nbformat_minor": 0,
  "metadata": {
    "colab": {
      "name": "RNN.ipynb",
      "provenance": []
    },
    "kernelspec": {
      "name": "python3",
      "display_name": "Python 3"
    },
    "accelerator": "GPU"
  },
  "cells": [
    {
      "cell_type": "code",
      "metadata": {
        "id": "wqOmxNoZ44jX",
        "colab_type": "code",
        "colab": {}
      },
      "source": [
        "import pandas as pd\n",
        "import numpy as np\n",
        "import tensorflow as tf\n",
        "import os\n",
        "import time "
      ],
      "execution_count": 0,
      "outputs": []
    },
    {
      "cell_type": "code",
      "metadata": {
        "id": "RJdPwNeV5sQI",
        "colab_type": "code",
        "outputId": "d79fe0ef-258a-4f36-9b4f-daff7fa32996",
        "colab": {
          "base_uri": "https://localhost:8080/",
          "height": 195
        }
      },
      "source": [
        "seqs = pd.read_csv('/content/spike_protein_no_special.csv')\n",
        "seqs.head(5)"
      ],
      "execution_count": 0,
      "outputs": [
        {
          "output_type": "execute_result",
          "data": {
            "text/html": [
              "<div>\n",
              "<style scoped>\n",
              "    .dataframe tbody tr th:only-of-type {\n",
              "        vertical-align: middle;\n",
              "    }\n",
              "\n",
              "    .dataframe tbody tr th {\n",
              "        vertical-align: top;\n",
              "    }\n",
              "\n",
              "    .dataframe thead th {\n",
              "        text-align: right;\n",
              "    }\n",
              "</style>\n",
              "<table border=\"1\" class=\"dataframe\">\n",
              "  <thead>\n",
              "    <tr style=\"text-align: right;\">\n",
              "      <th></th>\n",
              "      <th>Sequences</th>\n",
              "    </tr>\n",
              "  </thead>\n",
              "  <tbody>\n",
              "    <tr>\n",
              "      <th>0</th>\n",
              "      <td>ATGTTTGTTTTTCTTGTTTTATTGCCACTAGTTTCTAGTCAGTGTG...</td>\n",
              "    </tr>\n",
              "    <tr>\n",
              "      <th>1</th>\n",
              "      <td>ATGTTGTTTTTCTTCTTTTTACACTTTGCCTTAGTAAATTCACAAT...</td>\n",
              "    </tr>\n",
              "    <tr>\n",
              "      <th>2</th>\n",
              "      <td>ATGTTTGTTTTTCTTGTTTTATTGCCACTAGTCTCTAGTCAGTGTG...</td>\n",
              "    </tr>\n",
              "    <tr>\n",
              "      <th>3</th>\n",
              "      <td>ATGTTTGTTTTTCTTGTTTTATTGCCACTAGTCTCTAGTCAGTGTG...</td>\n",
              "    </tr>\n",
              "    <tr>\n",
              "      <th>4</th>\n",
              "      <td>ATGTTTGTTTTTCTTGTTTTATTGCCACTAGTCTCTAGTCAGTGTG...</td>\n",
              "    </tr>\n",
              "  </tbody>\n",
              "</table>\n",
              "</div>"
            ],
            "text/plain": [
              "                                           Sequences\n",
              "0  ATGTTTGTTTTTCTTGTTTTATTGCCACTAGTTTCTAGTCAGTGTG...\n",
              "1  ATGTTGTTTTTCTTCTTTTTACACTTTGCCTTAGTAAATTCACAAT...\n",
              "2  ATGTTTGTTTTTCTTGTTTTATTGCCACTAGTCTCTAGTCAGTGTG...\n",
              "3  ATGTTTGTTTTTCTTGTTTTATTGCCACTAGTCTCTAGTCAGTGTG...\n",
              "4  ATGTTTGTTTTTCTTGTTTTATTGCCACTAGTCTCTAGTCAGTGTG..."
            ]
          },
          "metadata": {
            "tags": []
          },
          "execution_count": 2
        }
      ]
    },
    {
      "cell_type": "code",
      "metadata": {
        "id": "RFJjXogcDz1j",
        "colab_type": "code",
        "outputId": "04052e41-177c-4c1c-af20-7b1d7ce20052",
        "colab": {
          "base_uri": "https://localhost:8080/",
          "height": 218
        }
      },
      "source": [
        "seqs['Sequences']"
      ],
      "execution_count": 0,
      "outputs": [
        {
          "output_type": "execute_result",
          "data": {
            "text/plain": [
              "0      ATGTTTGTTTTTCTTGTTTTATTGCCACTAGTTTCTAGTCAGTGTG...\n",
              "1      ATGTTGTTTTTCTTCTTTTTACACTTTGCCTTAGTAAATTCACAAT...\n",
              "2      ATGTTTGTTTTTCTTGTTTTATTGCCACTAGTCTCTAGTCAGTGTG...\n",
              "3      ATGTTTGTTTTTCTTGTTTTATTGCCACTAGTCTCTAGTCAGTGTG...\n",
              "4      ATGTTTGTTTTTCTTGTTTTATTGCCACTAGTCTCTAGTCAGTGTG...\n",
              "                             ...                        \n",
              "788    ATGGTGGACAGCCTTTGTTACTAATGTGAATGCGTCATCATCTGAA...\n",
              "789    ATGGTTATGTCATGCATGCAAATTACATATTTTGGAGGAATACAAA...\n",
              "790    ATGATATGATTTTATCTCTTCTTAGTAAAGGTAGACTTATAATTAG...\n",
              "791    ATGGATGTTCCGTGGCTATAAAGATAACAGAACATTCTTGGAATGC...\n",
              "792    ATGGAAAGTGAGTTCAGAGTTTATTCTAGTGCGAATAATTGCACTT...\n",
              "Name: Sequences, Length: 793, dtype: object"
            ]
          },
          "metadata": {
            "tags": []
          },
          "execution_count": 3
        }
      ]
    },
    {
      "cell_type": "code",
      "metadata": {
        "id": "zZtJ5MscFNzf",
        "colab_type": "code",
        "outputId": "ee1c73de-6ee1-48cf-b809-b62a0e66dcfa",
        "colab": {
          "base_uri": "https://localhost:8080/",
          "height": 34
        }
      },
      "source": [
        "seq_list = seqs['Sequences'].tolist()\n",
        "len(seq_list[0])"
      ],
      "execution_count": 0,
      "outputs": [
        {
          "output_type": "execute_result",
          "data": {
            "text/plain": [
              "3819"
            ]
          },
          "metadata": {
            "tags": []
          },
          "execution_count": 4
        }
      ]
    },
    {
      "cell_type": "code",
      "metadata": {
        "id": "TnoePzOAHi-i",
        "colab_type": "code",
        "outputId": "1c43e3cd-20c6-4781-d3ec-38579ce31808",
        "colab": {
          "base_uri": "https://localhost:8080/",
          "height": 34
        }
      },
      "source": [
        "#ignore \n",
        "combined = ''.join(seq_list)\n",
        "print('Total characters: {}'.format(len(combined)))"
      ],
      "execution_count": 0,
      "outputs": [
        {
          "output_type": "stream",
          "text": [
            "Total characters: 3010860\n"
          ],
          "name": "stdout"
        }
      ]
    },
    {
      "cell_type": "code",
      "metadata": {
        "id": "iCbtZSxwJNUs",
        "colab_type": "code",
        "outputId": "1c4c5528-fe68-43a4-efca-dd798fdd5788",
        "colab": {
          "base_uri": "https://localhost:8080/",
          "height": 70
        }
      },
      "source": [
        "vocab = sorted(set(combined))\n",
        "print(vocab)\n",
        "# Creating a mapping from unique characters to indices\n",
        "char2idx = {u:i for i, u in enumerate(vocab)}\n",
        "idx2char = np.array(vocab)\n",
        "\n",
        "for i, seq in enumerate(seq_list):\n",
        "  seq_list[i] = np.array([char2idx[c] for c in seq])\n",
        "print(seq_list)"
      ],
      "execution_count": 0,
      "outputs": [
        {
          "output_type": "stream",
          "text": [
            "['A', 'C', 'G', 'T']\n",
            "[array([0, 3, 2, ..., 3, 3, 0]), array([0, 3, 2, ..., 3, 3, 0]), array([0, 3, 2, ..., 0, 1, 0]), array([0, 3, 2, ..., 0, 1, 0]), array([0, 3, 2, ..., 0, 1, 0]), array([0, 3, 2, ..., 0, 1, 0]), array([0, 3, 2, ..., 0, 1, 0]), array([0, 3, 2, ..., 0, 1, 0]), array([0, 3, 2, ..., 0, 1, 0]), array([0, 3, 2, ..., 0, 1, 0]), array([0, 3, 2, ..., 0, 1, 0]), array([0, 3, 2, ..., 0, 1, 0]), array([0, 3, 2, ..., 0, 1, 0]), array([0, 3, 2, ..., 0, 1, 0]), array([0, 3, 2, ..., 0, 1, 0]), array([0, 3, 2, ..., 0, 1, 0]), array([0, 3, 2, ..., 0, 1, 0]), array([0, 3, 2, ..., 0, 1, 0]), array([0, 3, 2, ..., 2, 0, 0]), array([0, 3, 2, ..., 0, 1, 0]), array([0, 3, 2, ..., 0, 1, 0]), array([0, 3, 2, ..., 0, 1, 0]), array([0, 3, 2, ..., 0, 1, 0]), array([0, 3, 2, ..., 0, 1, 0]), array([0, 3, 2, ..., 0, 1, 0]), array([0, 3, 2, ..., 0, 1, 0]), array([0, 3, 2, ..., 3, 0, 0]), array([0, 3, 2, ..., 0, 1, 0]), array([0, 3, 2, ..., 0, 1, 0]), array([0, 3, 2, ..., 0, 1, 0]), array([0, 3, 2, ..., 0, 1, 0]), array([0, 3, 2, ..., 0, 1, 0]), array([0, 3, 2, ..., 0, 1, 0]), array([0, 3, 2, ..., 0, 1, 0]), array([0, 3, 2, ..., 0, 1, 0]), array([0, 3, 2, ..., 0, 1, 0]), array([0, 3, 2, ..., 0, 1, 0]), array([0, 3, 2, ..., 0, 0, 1]), array([0, 3, 2, ..., 0, 1, 0]), array([0, 3, 2, ..., 0, 1, 0]), array([0, 3, 2, ..., 0, 1, 0]), array([0, 3, 2, ..., 0, 1, 0]), array([0, 3, 2, ..., 0, 1, 0]), array([0, 3, 2, ..., 0, 1, 0]), array([0, 3, 2, ..., 0, 1, 0]), array([0, 3, 2, ..., 0, 1, 0]), array([0, 3, 2, ..., 0, 1, 0]), array([0, 3, 2, ..., 0, 1, 0]), array([0, 3, 2, ..., 0, 1, 0]), array([0, 3, 2, ..., 0, 1, 0]), array([0, 3, 2, ..., 0, 1, 0]), array([0, 3, 2, ..., 0, 1, 0]), array([0, 3, 2, ..., 0, 1, 0]), array([0, 3, 2, ..., 0, 1, 0]), array([0, 3, 2, ..., 0, 1, 0]), array([0, 3, 2, ..., 0, 1, 0]), array([0, 3, 2, ..., 0, 1, 0]), array([0, 3, 2, ..., 0, 1, 0]), array([0, 3, 2, ..., 0, 1, 0]), array([0, 3, 2, ..., 0, 1, 0]), array([0, 3, 2, ..., 0, 1, 0]), array([0, 3, 2, ..., 0, 1, 0]), array([0, 3, 2, ..., 0, 1, 0]), array([0, 3, 2, ..., 0, 1, 0]), array([0, 3, 2, ..., 0, 1, 0]), array([0, 3, 2, ..., 0, 1, 0]), array([0, 3, 2, ..., 0, 1, 0]), array([0, 3, 2, ..., 0, 1, 0]), array([0, 3, 2, ..., 0, 1, 0]), array([0, 3, 2, ..., 0, 1, 0]), array([0, 3, 2, ..., 0, 1, 0]), array([0, 3, 2, ..., 0, 1, 0]), array([0, 3, 2, ..., 0, 1, 0]), array([0, 3, 2, ..., 0, 1, 0]), array([0, 3, 2, ..., 0, 1, 0]), array([0, 3, 2, ..., 0, 1, 0]), array([0, 3, 2, ..., 0, 1, 0]), array([0, 3, 2, ..., 0, 1, 0]), array([0, 3, 2, ..., 0, 1, 0]), array([0, 3, 2, ..., 0, 1, 0]), array([0, 3, 2, ..., 0, 1, 0]), array([0, 3, 2, ..., 0, 1, 0]), array([0, 3, 2, ..., 0, 1, 0]), array([0, 3, 2, ..., 0, 1, 0]), array([0, 3, 2, ..., 0, 1, 0]), array([0, 3, 2, ..., 0, 1, 0]), array([0, 3, 2, ..., 0, 1, 0]), array([0, 3, 2, ..., 0, 1, 0]), array([0, 3, 2, ..., 0, 1, 0]), array([0, 3, 2, ..., 0, 1, 0]), array([0, 3, 2, ..., 0, 1, 0]), array([0, 3, 2, ..., 0, 1, 0]), array([0, 3, 2, ..., 0, 1, 0]), array([0, 3, 2, ..., 0, 1, 0]), array([0, 3, 2, ..., 0, 1, 0]), array([0, 3, 2, ..., 0, 1, 0]), array([0, 3, 2, ..., 0, 1, 0]), array([0, 3, 2, ..., 0, 1, 0]), array([0, 3, 2, ..., 0, 1, 0]), array([0, 3, 2, ..., 0, 1, 0]), array([0, 3, 2, ..., 0, 1, 0]), array([0, 3, 2, ..., 0, 1, 0]), array([0, 3, 2, ..., 0, 1, 0]), array([0, 3, 2, ..., 0, 1, 0]), array([0, 3, 2, ..., 0, 1, 0]), array([0, 3, 2, ..., 0, 1, 0]), array([0, 3, 2, ..., 0, 1, 0]), array([0, 3, 2, ..., 0, 1, 0]), array([0, 3, 2, ..., 0, 1, 0]), array([0, 3, 2, ..., 0, 1, 0]), array([0, 3, 2, ..., 0, 1, 0]), array([0, 3, 2, ..., 0, 1, 0]), array([0, 3, 2, ..., 0, 1, 0]), array([0, 3, 2, ..., 0, 1, 0]), array([0, 3, 2, ..., 0, 1, 0]), array([0, 3, 2, ..., 0, 1, 0]), array([0, 3, 2, ..., 0, 1, 0]), array([0, 3, 2, ..., 0, 1, 0]), array([0, 3, 2, ..., 0, 1, 0]), array([0, 3, 2, ..., 3, 0, 0]), array([0, 3, 2, ..., 0, 1, 0]), array([0, 3, 2, ..., 0, 1, 0]), array([0, 3, 2, ..., 0, 1, 0]), array([0, 3, 2, ..., 0, 1, 0]), array([0, 3, 2, ..., 0, 1, 0]), array([0, 3, 2, ..., 0, 1, 0]), array([0, 3, 2, ..., 0, 1, 0]), array([0, 3, 2, ..., 0, 1, 0]), array([0, 3, 2, ..., 0, 1, 0]), array([0, 3, 2, ..., 0, 1, 0]), array([0, 3, 2, ..., 0, 1, 0]), array([0, 3, 2, ..., 0, 1, 0]), array([0, 3, 2, ..., 3, 0, 0]), array([0, 3, 2, ..., 0, 1, 0]), array([0, 3, 2, ..., 0, 1, 0]), array([0, 3, 2, ..., 0, 1, 0]), array([0, 3, 2, ..., 0, 1, 0]), array([0, 3, 2, ..., 0, 1, 0]), array([0, 3, 2, ..., 0, 1, 0]), array([0, 3, 2, ..., 0, 1, 0]), array([0, 3, 2, ..., 0, 1, 0]), array([0, 3, 2, ..., 0, 1, 0]), array([0, 3, 2, ..., 0, 1, 0]), array([0, 3, 2, ..., 0, 1, 0]), array([0, 3, 2, ..., 0, 1, 0]), array([0, 3, 2, ..., 0, 1, 0]), array([0, 3, 2, ..., 0, 1, 0]), array([0, 3, 2, ..., 0, 1, 0]), array([0, 3, 2, ..., 0, 1, 0]), array([0, 3, 2, ..., 0, 1, 0]), array([0, 3, 2, ..., 0, 1, 0]), array([0, 3, 2, ..., 0, 1, 0]), array([0, 3, 2, ..., 0, 1, 0]), array([0, 3, 2, ..., 0, 1, 0]), array([0, 3, 2, ..., 0, 1, 0]), array([0, 3, 2, ..., 0, 1, 0]), array([0, 3, 2, ..., 3, 0, 1]), array([0, 3, 2, ..., 0, 1, 0]), array([0, 3, 2, ..., 0, 1, 0]), array([0, 3, 2, ..., 0, 1, 0]), array([0, 3, 2, ..., 0, 1, 0]), array([0, 3, 2, ..., 0, 1, 0]), array([0, 3, 2, ..., 0, 1, 0]), array([0, 3, 2, ..., 0, 1, 0]), array([0, 3, 2, ..., 0, 1, 0]), array([0, 3, 2, ..., 0, 1, 0]), array([0, 3, 2, ..., 0, 1, 0]), array([0, 3, 2, ..., 0, 1, 0]), array([0, 3, 2, ..., 0, 1, 0]), array([0, 3, 2, ..., 0, 1, 0]), array([0, 3, 2, ..., 0, 1, 0]), array([0, 3, 2, ..., 0, 1, 0]), array([0, 3, 2, ..., 0, 1, 0]), array([0, 3, 2, ..., 0, 1, 0]), array([0, 3, 2, ..., 0, 1, 0]), array([0, 3, 2, ..., 0, 1, 0]), array([0, 3, 2, ..., 0, 1, 0]), array([0, 3, 2, ..., 0, 1, 0]), array([0, 3, 2, ..., 0, 1, 0]), array([0, 3, 2, ..., 0, 1, 0]), array([0, 3, 2, ..., 0, 1, 0]), array([0, 3, 2, ..., 0, 1, 0]), array([0, 3, 2, ..., 0, 1, 0]), array([0, 3, 2, ..., 0, 1, 0]), array([0, 3, 2, ..., 0, 1, 0]), array([0, 3, 2, ..., 0, 1, 0]), array([0, 3, 2, ..., 0, 1, 0]), array([0, 3, 2, ..., 0, 1, 0]), array([0, 3, 2, ..., 0, 1, 0]), array([0, 3, 2, ..., 0, 1, 0]), array([0, 3, 2, ..., 0, 1, 0]), array([0, 3, 2, ..., 0, 1, 0]), array([0, 3, 2, ..., 0, 1, 0]), array([0, 3, 2, ..., 0, 1, 0]), array([0, 3, 2, ..., 0, 1, 0]), array([0, 3, 2, ..., 0, 1, 0]), array([0, 3, 2, ..., 0, 1, 0]), array([0, 3, 2, ..., 0, 1, 0]), array([0, 3, 2, ..., 0, 1, 0]), array([0, 3, 2, ..., 0, 1, 0]), array([0, 3, 2, ..., 0, 1, 0]), array([0, 3, 2, ..., 0, 1, 0]), array([0, 3, 2, ..., 0, 1, 0]), array([0, 3, 2, ..., 0, 1, 0]), array([0, 3, 2, ..., 0, 1, 0]), array([0, 3, 2, ..., 0, 1, 0]), array([0, 3, 2, ..., 0, 1, 0]), array([0, 3, 2, ..., 0, 1, 0]), array([0, 3, 2, ..., 0, 1, 0]), array([0, 3, 2, ..., 0, 1, 0]), array([0, 3, 2, ..., 0, 1, 0]), array([0, 3, 2, ..., 0, 1, 0]), array([0, 3, 2, ..., 0, 1, 0]), array([0, 3, 2, ..., 0, 1, 0]), array([0, 3, 2, ..., 0, 1, 0]), array([0, 3, 2, ..., 0, 1, 0]), array([0, 3, 2, ..., 0, 1, 0]), array([0, 3, 2, ..., 0, 1, 0]), array([0, 3, 2, ..., 0, 1, 0]), array([0, 3, 2, ..., 0, 1, 0]), array([0, 3, 2, ..., 0, 1, 0]), array([0, 3, 2, ..., 0, 1, 0]), array([0, 3, 2, ..., 0, 1, 0]), array([0, 3, 2, ..., 0, 1, 0]), array([0, 3, 2, ..., 0, 1, 0]), array([0, 3, 2, ..., 0, 1, 0]), array([0, 3, 2, ..., 0, 1, 0]), array([0, 3, 2, ..., 0, 1, 0]), array([0, 3, 2, ..., 0, 1, 0]), array([0, 3, 2, ..., 0, 1, 0]), array([0, 3, 2, ..., 0, 1, 0]), array([0, 3, 2, ..., 0, 1, 0]), array([0, 3, 2, ..., 0, 1, 0]), array([0, 3, 2, ..., 0, 1, 0]), array([0, 3, 2, ..., 0, 1, 0]), array([0, 3, 2, ..., 0, 1, 0]), array([0, 3, 2, ..., 0, 1, 0]), array([0, 3, 2, ..., 0, 1, 0]), array([0, 3, 2, ..., 0, 1, 0]), array([0, 3, 2, ..., 0, 1, 0]), array([0, 3, 2, ..., 0, 1, 0]), array([0, 3, 2, ..., 0, 1, 0]), array([0, 3, 2, ..., 0, 1, 0]), array([0, 3, 2, ..., 0, 1, 0]), array([0, 3, 2, ..., 0, 1, 0]), array([0, 3, 2, ..., 0, 1, 0]), array([0, 3, 2, ..., 0, 1, 0]), array([0, 3, 2, ..., 0, 1, 0]), array([0, 3, 2, ..., 0, 1, 0]), array([0, 3, 2, ..., 0, 1, 0]), array([0, 3, 2, ..., 0, 1, 0]), array([0, 3, 2, ..., 0, 1, 0]), array([0, 3, 2, ..., 0, 1, 0]), array([0, 3, 2, ..., 0, 1, 0]), array([0, 3, 2, ..., 0, 1, 0]), array([0, 3, 2, ..., 0, 1, 0]), array([0, 3, 2, ..., 0, 1, 0]), array([0, 3, 2, ..., 0, 1, 0]), array([0, 3, 2, ..., 0, 1, 0]), array([0, 3, 2, ..., 0, 1, 0]), array([0, 3, 2, ..., 0, 1, 0]), array([0, 3, 2, ..., 0, 1, 0]), array([0, 3, 2, ..., 0, 1, 0]), array([0, 3, 2, ..., 0, 1, 0]), array([0, 3, 2, ..., 0, 1, 0]), array([0, 3, 2, ..., 0, 1, 0]), array([0, 3, 2, ..., 0, 1, 0]), array([0, 3, 2, ..., 0, 1, 0]), array([0, 3, 2, ..., 0, 1, 0]), array([0, 3, 2, ..., 0, 1, 0]), array([0, 3, 2, ..., 0, 1, 0]), array([0, 3, 2, ..., 0, 1, 0]), array([0, 3, 2, ..., 0, 1, 0]), array([0, 3, 2, ..., 0, 1, 0]), array([0, 3, 2, ..., 0, 1, 0]), array([0, 3, 2, ..., 0, 1, 0]), array([0, 3, 2, ..., 0, 1, 0]), array([0, 3, 2, ..., 0, 1, 0]), array([0, 3, 2, ..., 0, 1, 0]), array([0, 3, 2, ..., 0, 1, 0]), array([0, 3, 2, ..., 0, 1, 0]), array([0, 3, 2, ..., 0, 1, 0]), array([0, 3, 2, ..., 0, 1, 0]), array([0, 3, 2, ..., 0, 1, 0]), array([0, 3, 2, ..., 0, 1, 0]), array([0, 3, 2, ..., 0, 1, 0]), array([0, 3, 2, ..., 0, 1, 0]), array([0, 3, 2, ..., 0, 1, 0]), array([0, 3, 2, ..., 0, 1, 0]), array([0, 3, 2, ..., 0, 1, 0]), array([0, 3, 2, ..., 0, 1, 0]), array([0, 3, 2, ..., 0, 1, 0]), array([0, 3, 2, ..., 0, 1, 0]), array([0, 3, 2, ..., 0, 1, 0]), array([0, 3, 2, ..., 0, 1, 0]), array([0, 3, 2, ..., 0, 1, 0]), array([0, 3, 2, ..., 0, 1, 0]), array([0, 3, 2, ..., 0, 1, 0]), array([0, 3, 2, ..., 0, 1, 0]), array([0, 3, 2, ..., 0, 1, 0]), array([0, 3, 2, ..., 0, 1, 0]), array([0, 3, 2, ..., 0, 1, 0]), array([0, 3, 2, ..., 0, 1, 0]), array([0, 3, 2, ..., 0, 1, 0]), array([0, 3, 2, ..., 0, 1, 0]), array([0, 3, 2, ..., 0, 1, 0]), array([0, 3, 2, ..., 0, 1, 0]), array([0, 3, 2, ..., 0, 1, 0]), array([0, 3, 2, ..., 0, 1, 0]), array([0, 3, 2, ..., 0, 1, 0]), array([0, 3, 2, ..., 0, 1, 0]), array([0, 3, 2, ..., 0, 1, 0]), array([0, 3, 2, ..., 0, 1, 0]), array([0, 3, 2, ..., 0, 1, 0]), array([0, 3, 2, ..., 0, 1, 0]), array([0, 3, 2, ..., 0, 1, 0]), array([0, 3, 2, ..., 0, 1, 0]), array([0, 3, 2, ..., 0, 1, 0]), array([0, 3, 2, ..., 0, 1, 0]), array([0, 3, 2, ..., 0, 1, 0]), array([0, 3, 2, ..., 0, 1, 0]), array([0, 3, 2, ..., 0, 1, 0]), array([0, 3, 2, ..., 0, 1, 0]), array([0, 3, 2, ..., 0, 1, 0]), array([0, 3, 2, ..., 0, 1, 0]), array([0, 3, 2, ..., 0, 1, 0]), array([0, 3, 2, ..., 0, 1, 0]), array([0, 3, 2, ..., 0, 1, 0]), array([0, 3, 2, ..., 0, 1, 0]), array([0, 3, 2, ..., 0, 1, 0]), array([0, 3, 2, ..., 0, 1, 0]), array([0, 3, 2, ..., 0, 1, 0]), array([0, 3, 2, ..., 0, 1, 0]), array([0, 3, 2, ..., 0, 1, 0]), array([0, 3, 2, ..., 0, 1, 0]), array([0, 3, 2, ..., 0, 1, 0]), array([0, 3, 2, ..., 0, 1, 0]), array([0, 3, 2, ..., 0, 1, 0]), array([0, 3, 2, ..., 0, 1, 0]), array([0, 3, 2, ..., 0, 1, 0]), array([0, 3, 2, ..., 0, 1, 0]), array([0, 3, 2, ..., 0, 1, 0]), array([0, 3, 2, ..., 0, 1, 0]), array([0, 3, 2, ..., 0, 1, 0]), array([0, 3, 2, ..., 0, 1, 0]), array([0, 3, 2, ..., 0, 1, 0]), array([0, 3, 2, ..., 0, 1, 0]), array([0, 3, 2, ..., 0, 1, 0]), array([0, 3, 2, ..., 0, 1, 0]), array([0, 3, 2, ..., 0, 1, 0]), array([0, 3, 2, ..., 0, 1, 0]), array([0, 3, 2, ..., 0, 1, 0]), array([0, 3, 2, ..., 0, 1, 0]), array([0, 3, 2, ..., 0, 1, 0]), array([0, 3, 2, ..., 0, 1, 0]), array([0, 3, 2, ..., 0, 1, 0]), array([0, 3, 2, ..., 0, 1, 0]), array([0, 3, 2, ..., 0, 1, 0]), array([0, 3, 2, ..., 0, 1, 0]), array([0, 3, 2, ..., 0, 1, 0]), array([0, 3, 2, ..., 0, 1, 0]), array([0, 3, 2, ..., 0, 1, 0]), array([0, 3, 2, ..., 0, 1, 0]), array([0, 3, 2, ..., 0, 1, 0]), array([0, 3, 2, ..., 0, 1, 0]), array([0, 3, 2, ..., 0, 1, 0]), array([0, 3, 2, ..., 0, 1, 0]), array([0, 3, 2, ..., 0, 1, 0]), array([0, 3, 2, ..., 0, 1, 0]), array([0, 3, 2, ..., 0, 1, 0]), array([0, 3, 2, ..., 0, 1, 0]), array([0, 3, 2, ..., 0, 1, 0]), array([0, 3, 2, ..., 0, 1, 0]), array([0, 3, 2, ..., 0, 1, 0]), array([0, 3, 2, ..., 0, 1, 0]), array([0, 3, 2, ..., 0, 1, 0]), array([0, 3, 2, ..., 0, 1, 0]), array([0, 3, 2, ..., 0, 1, 0]), array([0, 3, 2, ..., 0, 1, 0]), array([0, 3, 2, ..., 0, 1, 0]), array([0, 3, 2, ..., 0, 1, 0]), array([0, 3, 2, ..., 0, 1, 0]), array([0, 3, 2, ..., 0, 1, 0]), array([0, 3, 2, ..., 0, 1, 0]), array([0, 3, 2, ..., 0, 1, 0]), array([0, 3, 2, ..., 0, 1, 0]), array([0, 3, 2, ..., 0, 1, 0]), array([0, 3, 2, ..., 0, 1, 0]), array([0, 3, 2, ..., 0, 1, 0]), array([0, 3, 2, ..., 0, 1, 0]), array([0, 3, 2, ..., 0, 1, 0]), array([0, 3, 2, ..., 0, 1, 0]), array([0, 3, 2, ..., 0, 1, 0]), array([0, 3, 2, ..., 0, 1, 0]), array([0, 3, 2, ..., 0, 1, 0]), array([0, 3, 2, ..., 0, 1, 0]), array([0, 3, 2, ..., 0, 1, 0]), array([0, 3, 2, ..., 0, 1, 0]), array([0, 3, 2, ..., 0, 1, 0]), array([0, 3, 2, ..., 0, 1, 0]), array([0, 3, 2, ..., 0, 1, 0]), array([0, 3, 2, ..., 0, 1, 0]), array([0, 3, 2, ..., 0, 1, 0]), array([0, 3, 2, ..., 0, 1, 0]), array([0, 3, 2, ..., 0, 1, 0]), array([0, 3, 2, ..., 0, 1, 0]), array([0, 3, 2, ..., 0, 1, 0]), array([0, 3, 2, ..., 0, 1, 0]), array([0, 3, 2, ..., 0, 1, 0]), array([0, 3, 2, ..., 0, 1, 0]), array([0, 3, 2, ..., 0, 1, 0]), array([0, 3, 2, ..., 0, 1, 0]), array([0, 3, 2, ..., 0, 1, 0]), array([0, 3, 2, ..., 0, 1, 0]), array([0, 3, 2, ..., 0, 1, 0]), array([0, 3, 2, ..., 0, 1, 0]), array([0, 3, 2, ..., 0, 1, 0]), array([0, 3, 2, ..., 0, 1, 0]), array([0, 3, 2, ..., 0, 1, 0]), array([0, 3, 2, ..., 0, 1, 0]), array([0, 3, 2, ..., 0, 1, 0]), array([0, 3, 2, ..., 0, 1, 0]), array([0, 3, 2, ..., 0, 1, 0]), array([0, 3, 2, ..., 0, 1, 0]), array([0, 3, 2, ..., 0, 1, 0]), array([0, 3, 2, ..., 0, 1, 0]), array([0, 3, 2, ..., 0, 1, 0]), array([0, 3, 2, ..., 0, 1, 0]), array([0, 3, 2, ..., 0, 1, 0]), array([0, 3, 2, ..., 0, 1, 0]), array([0, 3, 2, ..., 0, 1, 0]), array([0, 3, 2, ..., 0, 1, 0]), array([0, 3, 2, ..., 0, 1, 0]), array([0, 3, 2, ..., 0, 1, 0]), array([0, 3, 2, ..., 0, 1, 0]), array([0, 3, 2, ..., 0, 1, 0]), array([0, 3, 2, ..., 0, 1, 0]), array([0, 3, 2, ..., 0, 1, 0]), array([0, 3, 2, ..., 0, 1, 0]), array([0, 3, 2, ..., 0, 1, 0]), array([0, 3, 2, ..., 0, 1, 0]), array([0, 3, 2, ..., 0, 1, 0]), array([0, 3, 2, ..., 0, 1, 0]), array([0, 3, 2, ..., 0, 1, 0]), array([0, 3, 2, ..., 0, 1, 0]), array([0, 3, 2, ..., 0, 1, 0]), array([0, 3, 2, ..., 0, 1, 0]), array([0, 3, 2, ..., 0, 1, 0]), array([0, 3, 2, ..., 0, 1, 0]), array([0, 3, 2, ..., 0, 1, 0]), array([0, 3, 2, ..., 0, 1, 0]), array([0, 3, 2, ..., 0, 1, 0]), array([0, 3, 2, ..., 0, 1, 0]), array([0, 3, 2, ..., 0, 1, 0]), array([0, 3, 2, ..., 0, 1, 0]), array([0, 3, 2, ..., 0, 1, 0]), array([0, 3, 2, ..., 0, 1, 0]), array([0, 3, 2, ..., 0, 1, 0]), array([0, 3, 2, ..., 0, 1, 0]), array([0, 3, 2, ..., 0, 1, 0]), array([0, 3, 2, ..., 0, 1, 0]), array([0, 3, 2, ..., 0, 1, 0]), array([0, 3, 2, ..., 0, 1, 0]), array([0, 3, 2, ..., 0, 1, 0]), array([0, 3, 2, ..., 0, 1, 0]), array([0, 3, 2, ..., 0, 1, 0]), array([0, 3, 2, ..., 0, 1, 0]), array([0, 3, 2, ..., 0, 1, 0]), array([0, 3, 2, ..., 0, 1, 0]), array([0, 3, 2, ..., 0, 1, 0]), array([0, 3, 2, ..., 0, 1, 0]), array([0, 3, 2, ..., 0, 1, 0]), array([0, 3, 2, ..., 0, 1, 0]), array([0, 3, 2, ..., 0, 1, 0]), array([0, 3, 2, ..., 0, 1, 0]), array([0, 3, 2, ..., 0, 1, 0]), array([0, 3, 2, ..., 0, 1, 0]), array([0, 3, 2, ..., 0, 1, 0]), array([0, 3, 2, ..., 0, 1, 0]), array([0, 3, 2, ..., 0, 1, 0]), array([0, 3, 2, ..., 0, 1, 0]), array([0, 3, 2, ..., 0, 1, 0]), array([0, 3, 2, ..., 0, 1, 0]), array([0, 3, 2, ..., 0, 1, 0]), array([0, 3, 2, ..., 0, 1, 0]), array([0, 3, 2, ..., 0, 1, 0]), array([0, 3, 2, ..., 0, 1, 0]), array([0, 3, 2, ..., 0, 1, 0]), array([0, 3, 2, ..., 0, 1, 0]), array([0, 3, 2, ..., 0, 1, 0]), array([0, 3, 2, ..., 0, 1, 0]), array([0, 3, 2, ..., 0, 1, 0]), array([0, 3, 2, ..., 0, 1, 0]), array([0, 3, 2, ..., 0, 1, 0]), array([0, 3, 2, ..., 0, 1, 0]), array([0, 3, 2, ..., 0, 1, 0]), array([0, 3, 2, ..., 0, 1, 0]), array([0, 3, 2, ..., 0, 1, 0]), array([0, 3, 2, ..., 0, 1, 0]), array([0, 3, 2, ..., 0, 1, 0]), array([0, 3, 2, ..., 0, 1, 0]), array([0, 3, 2, ..., 0, 1, 0]), array([0, 3, 2, ..., 0, 1, 0]), array([0, 3, 2, ..., 0, 1, 0]), array([0, 3, 2, ..., 0, 1, 0]), array([0, 3, 2, ..., 0, 1, 0]), array([0, 3, 2, ..., 0, 1, 0]), array([0, 3, 2, ..., 0, 1, 0]), array([0, 3, 2, ..., 0, 1, 0]), array([0, 3, 2, ..., 0, 1, 0]), array([0, 3, 2, ..., 0, 1, 0]), array([0, 3, 2, ..., 0, 1, 0]), array([0, 3, 2, ..., 0, 1, 0]), array([0, 3, 2, ..., 0, 1, 0]), array([0, 3, 2, ..., 0, 1, 0]), array([0, 3, 2, ..., 0, 1, 0]), array([0, 3, 2, ..., 0, 1, 0]), array([0, 3, 2, ..., 0, 1, 0]), array([0, 3, 2, ..., 0, 1, 0]), array([0, 3, 2, ..., 0, 1, 0]), array([0, 3, 2, ..., 0, 1, 0]), array([0, 3, 2, ..., 0, 1, 0]), array([0, 3, 2, ..., 0, 1, 0]), array([0, 3, 2, ..., 0, 1, 0]), array([0, 3, 2, ..., 0, 1, 0]), array([0, 3, 2, ..., 0, 1, 0]), array([0, 3, 2, ..., 0, 1, 0]), array([0, 3, 2, ..., 0, 1, 0]), array([0, 3, 2, ..., 0, 1, 0]), array([0, 3, 2, ..., 0, 1, 0]), array([0, 3, 2, ..., 0, 1, 0]), array([0, 3, 2, ..., 0, 1, 0]), array([0, 3, 2, ..., 0, 1, 0]), array([0, 3, 2, ..., 0, 1, 0]), array([0, 3, 2, ..., 0, 1, 0]), array([0, 3, 2, ..., 0, 1, 0]), array([0, 3, 2, ..., 0, 1, 0]), array([0, 3, 2, ..., 0, 1, 0]), array([0, 3, 2, ..., 0, 1, 0]), array([0, 3, 2, ..., 0, 1, 0]), array([0, 3, 2, ..., 0, 1, 0]), array([0, 3, 2, ..., 0, 1, 0]), array([0, 3, 2, ..., 0, 1, 0]), array([0, 3, 2, ..., 0, 1, 0]), array([0, 3, 2, ..., 0, 1, 0]), array([0, 3, 2, ..., 0, 1, 0]), array([0, 3, 2, ..., 0, 1, 0]), array([0, 3, 2, ..., 0, 1, 0]), array([0, 3, 2, ..., 0, 1, 0]), array([0, 3, 2, ..., 0, 1, 0]), array([0, 3, 2, ..., 0, 1, 0]), array([0, 3, 2, ..., 0, 1, 0]), array([0, 3, 2, ..., 0, 1, 0]), array([0, 3, 2, ..., 0, 1, 0]), array([0, 3, 2, ..., 0, 1, 0]), array([0, 3, 2, ..., 0, 1, 0]), array([0, 3, 2, ..., 0, 1, 0]), array([0, 3, 2, ..., 0, 1, 0]), array([0, 3, 2, ..., 0, 1, 0]), array([0, 3, 2, ..., 0, 1, 0]), array([0, 3, 2, ..., 0, 1, 0]), array([0, 3, 2, ..., 0, 1, 0]), array([0, 3, 2, ..., 0, 1, 0]), array([0, 3, 2, ..., 0, 1, 0]), array([0, 3, 2, ..., 0, 1, 0]), array([0, 3, 2, ..., 0, 1, 0]), array([0, 3, 2, ..., 0, 1, 0]), array([0, 3, 2, ..., 0, 1, 0]), array([0, 3, 2, ..., 0, 1, 0]), array([0, 3, 2, ..., 0, 1, 0]), array([0, 3, 2, ..., 0, 1, 0]), array([0, 3, 2, ..., 0, 1, 0]), array([0, 3, 2, ..., 0, 1, 0]), array([0, 3, 2, ..., 0, 1, 0]), array([0, 3, 2, ..., 0, 1, 0]), array([0, 3, 2, ..., 0, 1, 0]), array([0, 3, 2, ..., 0, 1, 0]), array([0, 3, 2, ..., 0, 1, 0]), array([0, 3, 2, ..., 0, 1, 0]), array([0, 3, 2, ..., 0, 1, 0]), array([0, 3, 2, ..., 0, 1, 0]), array([0, 3, 2, ..., 0, 1, 0]), array([0, 3, 2, ..., 0, 1, 0]), array([0, 3, 2, ..., 0, 1, 0]), array([0, 3, 2, ..., 0, 1, 0]), array([0, 3, 2, ..., 0, 1, 0]), array([0, 3, 2, ..., 0, 1, 0]), array([0, 3, 2, ..., 0, 1, 0]), array([0, 3, 2, ..., 0, 1, 0]), array([0, 3, 2, ..., 0, 1, 0]), array([0, 3, 2, ..., 0, 1, 0]), array([0, 3, 2, ..., 3, 2, 3]), array([0, 3, 2, ..., 0, 1, 0]), array([0, 3, 2, ..., 0, 1, 0]), array([0, 3, 2, ..., 0, 1, 0]), array([0, 3, 2, ..., 0, 1, 0]), array([0, 3, 2, ..., 0, 1, 0]), array([0, 3, 2, ..., 0, 1, 0]), array([0, 3, 2, ..., 0, 1, 0]), array([0, 3, 2, ..., 0, 1, 0]), array([0, 3, 2, ..., 0, 1, 0]), array([0, 3, 2, ..., 0, 1, 0]), array([0, 3, 2, ..., 0, 1, 0]), array([0, 3, 2, ..., 0, 1, 0]), array([0, 3, 2, ..., 0, 1, 0]), array([0, 3, 2, ..., 0, 1, 0]), array([0, 3, 2, ..., 0, 1, 0]), array([0, 3, 2, ..., 0, 1, 0]), array([0, 3, 2, ..., 0, 1, 0]), array([0, 3, 2, ..., 3, 0, 0]), array([0, 3, 2, ..., 0, 1, 0]), array([0, 3, 2, ..., 0, 1, 0]), array([0, 3, 2, ..., 0, 1, 0]), array([0, 3, 2, ..., 0, 1, 0]), array([0, 3, 2, ..., 0, 1, 0]), array([0, 3, 2, ..., 0, 1, 0]), array([0, 3, 2, ..., 0, 1, 0]), array([0, 3, 2, ..., 0, 1, 0]), array([0, 3, 2, ..., 0, 1, 0]), array([0, 3, 2, ..., 0, 1, 0]), array([0, 3, 2, ..., 0, 1, 0]), array([0, 3, 2, ..., 0, 1, 0]), array([0, 3, 2, ..., 0, 1, 0]), array([0, 3, 2, ..., 0, 1, 0]), array([0, 3, 2, ..., 0, 1, 0]), array([0, 3, 2, ..., 3, 0, 0]), array([0, 3, 2, ..., 0, 1, 0]), array([0, 3, 2, ..., 0, 1, 0]), array([0, 3, 2, ..., 0, 1, 0]), array([0, 3, 2, ..., 0, 1, 0]), array([0, 3, 2, ..., 0, 1, 0]), array([0, 3, 2, ..., 0, 1, 0]), array([0, 3, 2, ..., 0, 1, 0]), array([0, 3, 2, ..., 0, 1, 0]), array([0, 3, 2, ..., 0, 1, 0]), array([0, 3, 2, ..., 0, 1, 0]), array([0, 3, 2, ..., 0, 1, 0]), array([0, 3, 2, ..., 0, 1, 0]), array([0, 3, 2, ..., 0, 1, 0]), array([0, 3, 2, ..., 0, 1, 0]), array([0, 3, 2, ..., 0, 1, 0]), array([0, 3, 2, ..., 0, 1, 0]), array([0, 3, 2, ..., 0, 1, 0]), array([0, 3, 2, ..., 0, 1, 0]), array([0, 3, 2, ..., 0, 1, 0]), array([0, 3, 2, ..., 0, 1, 0]), array([0, 3, 2, ..., 0, 1, 0]), array([0, 3, 2, ..., 0, 1, 0]), array([0, 3, 2, ..., 0, 1, 0]), array([0, 3, 2, ..., 3, 0, 0]), array([0, 3, 2, ..., 0, 1, 0]), array([0, 3, 2, ..., 0, 1, 0]), array([0, 3, 2, ..., 0, 1, 0]), array([0, 3, 2, ..., 0, 1, 0]), array([0, 3, 2, ..., 0, 1, 0]), array([0, 3, 2, ..., 0, 1, 0]), array([0, 3, 2, ..., 0, 1, 0]), array([0, 3, 2, ..., 0, 1, 0]), array([0, 3, 2, ..., 0, 1, 0]), array([0, 3, 2, ..., 0, 1, 0]), array([0, 3, 2, ..., 0, 1, 0]), array([0, 3, 2, ..., 0, 1, 0]), array([0, 3, 2, ..., 0, 1, 0]), array([0, 3, 2, ..., 0, 1, 0]), array([0, 3, 2, ..., 0, 1, 0]), array([0, 3, 2, ..., 0, 1, 0]), array([0, 3, 2, ..., 0, 1, 0]), array([0, 3, 2, ..., 0, 1, 0]), array([0, 3, 2, ..., 0, 1, 0]), array([0, 3, 2, ..., 0, 1, 0]), array([0, 3, 2, ..., 0, 1, 0]), array([0, 3, 2, ..., 0, 1, 0]), array([0, 3, 2, ..., 0, 1, 0]), array([0, 3, 2, ..., 0, 1, 0]), array([0, 3, 2, ..., 0, 1, 0]), array([0, 3, 2, ..., 0, 1, 0]), array([0, 3, 2, ..., 0, 1, 0]), array([0, 3, 2, ..., 0, 1, 0]), array([0, 3, 2, ..., 0, 1, 0]), array([0, 3, 2, ..., 0, 1, 0]), array([0, 3, 2, ..., 0, 1, 0]), array([0, 3, 2, ..., 0, 1, 0]), array([0, 3, 2, ..., 0, 1, 0]), array([0, 3, 2, ..., 0, 1, 0]), array([0, 3, 2, ..., 0, 1, 0]), array([0, 3, 2, ..., 0, 1, 0]), array([0, 3, 2, ..., 0, 1, 0]), array([0, 3, 2, ..., 0, 1, 0]), array([0, 3, 2, ..., 0, 1, 0]), array([0, 3, 2, ..., 0, 1, 0]), array([0, 3, 2, ..., 0, 1, 0]), array([0, 3, 2, ..., 0, 1, 0]), array([0, 3, 2, ..., 0, 1, 0]), array([0, 3, 2, ..., 0, 1, 0]), array([0, 3, 2, ..., 0, 1, 0]), array([0, 3, 2, ..., 0, 1, 0]), array([0, 3, 2, ..., 0, 1, 0]), array([0, 3, 2, ..., 0, 1, 0]), array([0, 3, 2, ..., 0, 1, 0]), array([0, 3, 2, ..., 0, 1, 0]), array([0, 3, 2, ..., 0, 1, 0]), array([0, 3, 2, ..., 0, 1, 0]), array([0, 3, 2, ..., 0, 1, 0]), array([0, 3, 2, ..., 0, 1, 0]), array([0, 3, 2, ..., 0, 1, 0]), array([0, 3, 2, ..., 0, 1, 0]), array([0, 3, 2, ..., 0, 1, 0]), array([0, 3, 2, ..., 0, 1, 0]), array([0, 3, 2, ..., 0, 1, 0]), array([0, 3, 2, ..., 0, 1, 0]), array([0, 3, 2, ..., 0, 1, 0]), array([0, 3, 2, ..., 0, 1, 0]), array([0, 3, 2, ..., 0, 1, 0]), array([0, 3, 2, ..., 0, 1, 0]), array([0, 3, 2, ..., 0, 1, 0]), array([0, 3, 2, ..., 0, 1, 0]), array([0, 3, 2, ..., 0, 1, 0]), array([0, 3, 2, ..., 0, 1, 0]), array([0, 3, 2, ..., 0, 1, 0]), array([0, 3, 2, ..., 0, 1, 0]), array([0, 3, 2, ..., 0, 1, 0]), array([0, 3, 2, ..., 0, 1, 0]), array([0, 3, 2, ..., 0, 1, 0]), array([0, 3, 2, ..., 0, 1, 0]), array([0, 3, 2, ..., 0, 1, 0]), array([0, 3, 2, ..., 0, 1, 0]), array([0, 3, 2, ..., 0, 1, 0]), array([0, 3, 2, ..., 0, 1, 0]), array([0, 3, 2, ..., 0, 1, 0]), array([0, 3, 2, ..., 0, 1, 0]), array([0, 3, 2, ..., 0, 1, 0]), array([0, 3, 2, ..., 0, 1, 0]), array([0, 3, 2, ..., 0, 1, 0]), array([0, 3, 2, ..., 0, 1, 0]), array([0, 3, 2, ..., 0, 1, 0]), array([0, 3, 2, ..., 0, 1, 0]), array([0, 3, 2, ..., 0, 1, 0]), array([0, 3, 2, ..., 0, 1, 0]), array([0, 3, 2, ..., 0, 1, 0]), array([0, 3, 2, ..., 0, 1, 0]), array([0, 3, 2, ..., 0, 1, 0]), array([0, 3, 2, ..., 0, 1, 0]), array([0, 3, 2, ..., 0, 1, 0]), array([0, 3, 2, ..., 0, 1, 0]), array([0, 3, 2, ..., 0, 1, 0]), array([0, 3, 2, ..., 0, 1, 0]), array([0, 3, 2, ..., 0, 1, 0]), array([0, 3, 2, ..., 0, 1, 0]), array([0, 3, 2, ..., 0, 1, 0]), array([0, 3, 2, ..., 0, 1, 0]), array([0, 3, 2, ..., 0, 1, 0]), array([0, 3, 2, ..., 0, 1, 0]), array([0, 3, 2, ..., 0, 1, 0]), array([0, 3, 2, ..., 0, 1, 0]), array([0, 3, 2, ..., 0, 1, 0]), array([0, 3, 2, ..., 0, 1, 0]), array([0, 3, 2, ..., 0, 1, 0]), array([0, 3, 2, ..., 0, 1, 0]), array([0, 3, 2, ..., 0, 1, 0]), array([0, 3, 2, ..., 0, 1, 0]), array([0, 3, 2, ..., 0, 1, 0]), array([0, 3, 2, ..., 0, 1, 0]), array([0, 3, 2, ..., 0, 1, 0]), array([0, 3, 2, ..., 0, 1, 0]), array([0, 3, 2, ..., 0, 1, 0]), array([0, 3, 2, ..., 0, 1, 0]), array([0, 3, 2, ..., 0, 1, 0]), array([0, 3, 2, ..., 0, 1, 0]), array([0, 3, 2, ..., 0, 1, 0]), array([0, 3, 2, ..., 0, 1, 0]), array([0, 3, 2, ..., 0, 1, 0]), array([0, 3, 2, ..., 0, 1, 0]), array([0, 3, 2, ..., 0, 1, 0]), array([0, 3, 2, ..., 0, 1, 0]), array([0, 3, 2, ..., 0, 1, 0]), array([0, 3, 2, ..., 0, 1, 0]), array([0, 3, 2, ..., 0, 1, 0]), array([0, 3, 2, ..., 0, 1, 0]), array([0, 3, 2, ..., 0, 1, 0]), array([0, 3, 2, ..., 0, 1, 0]), array([0, 3, 2, ..., 0, 1, 0]), array([0, 3, 2, ..., 0, 1, 0]), array([0, 3, 2, ..., 0, 1, 0]), array([0, 3, 2, ..., 0, 1, 0]), array([0, 3, 2, ..., 2, 0, 3]), array([0, 3, 2, ..., 2, 1, 0]), array([0, 3, 2, ..., 2, 1, 0]), array([0, 3, 2, ..., 0, 1, 3]), array([0, 3, 2, ..., 0, 0, 2]), array([0, 3, 2, ..., 3, 3, 3]), array([0, 3, 2, ..., 0, 1, 3]), array([0, 3, 2, ..., 0, 0, 3]), array([0, 3, 2, ..., 0, 1, 0])]\n"
          ],
          "name": "stdout"
        }
      ]
    },
    {
      "cell_type": "code",
      "metadata": {
        "id": "IeqQBl8gYA0V",
        "colab_type": "code",
        "outputId": "6f5124f7-a553-4a3d-9a7d-117b69dd5c10",
        "colab": {
          "base_uri": "https://localhost:8080/",
          "height": 34
        }
      },
      "source": [
        "len(seq_list)"
      ],
      "execution_count": 0,
      "outputs": [
        {
          "output_type": "execute_result",
          "data": {
            "text/plain": [
              "793"
            ]
          },
          "metadata": {
            "tags": []
          },
          "execution_count": 7
        }
      ]
    },
    {
      "cell_type": "code",
      "metadata": {
        "id": "cSNEbXb6Kac4",
        "colab_type": "code",
        "outputId": "ba214ae2-5ad4-4377-a721-82f24cb86ca4",
        "colab": {
          "base_uri": "https://localhost:8080/",
          "height": 134
        }
      },
      "source": [
        "# The maximum length sentence we want for a single input in characters\n",
        "seq_length = 100                                      #!!!\n",
        "examples_per_epoch = len(combined)//(seq_length+1)    #!!!\n",
        "\n",
        "# Create training examples / targets \n",
        "char_datasets = list(range(len(seq_list)))\n",
        "for i, seq in enumerate(seq_list):\n",
        "  char_datasets[i] = tf.data.Dataset.from_tensor_slices(seq_list[i])\n",
        "\n",
        "for i in char_datasets[0].take(7):\n",
        "  print(idx2char[i.numpy()])"
      ],
      "execution_count": 0,
      "outputs": [
        {
          "output_type": "stream",
          "text": [
            "A\n",
            "T\n",
            "G\n",
            "T\n",
            "T\n",
            "T\n",
            "G\n"
          ],
          "name": "stdout"
        }
      ]
    },
    {
      "cell_type": "code",
      "metadata": {
        "id": "VFQQshkQR_Yd",
        "colab_type": "code",
        "outputId": "9ba82bbf-8df8-48ed-f03d-8c979623324b",
        "colab": {
          "base_uri": "https://localhost:8080/",
          "height": 101
        }
      },
      "source": [
        "sequences_list = list(range(len(char_datasets)))\n",
        "for i, char_dataset in enumerate(char_datasets):\n",
        "  sequences_list[i] = char_dataset.batch(seq_length+1, drop_remainder=True)  #!!!\n",
        "# drop_remainder -> whether the last batch should be dropped in the case it has fewer than batch_size elements; the default behavior is not to drop the smaller batch\n",
        "for item in sequences_list[0].take(5):\n",
        "  print(repr(''.join(idx2char[item.numpy()])))"
      ],
      "execution_count": 0,
      "outputs": [
        {
          "output_type": "stream",
          "text": [
            "'ATGTTTGTTTTTCTTGTTTTATTGCCACTAGTTTCTAGTCAGTGTGTTAATCTAACAACTAGAACTCAGTTACCTCCTGCATACACCAACTCATCCACCCG'\n",
            "'TGGTGTCTATTACCCTGACAAAGTTTTCAGATCTTCAGTTTTACATTTAACTCAGGATTTGTTTTTACCTTTCTTCTCCAATGTGACCTGGTTCCATGCTA'\n",
            "'TACATGTTTCAGGGACCAATGGTATTAAAAGGTTTGATAACCCAGTTCTGCCATTCAACGATGGCGTCTATTTTGCTTCCACTGAGAAGTCTAATATAATA'\n",
            "'AGAGGATGGATTTTTGGTACTACCTTAGATTCGAAGACCCAGTCTCTACTTATTGTTAATAACGCTACTAATGTTGTTATTAAAGTCTGTGAATTTCAATT'\n",
            "'TTGTAATGATCCATTTTTGGGTGTTTATTACCACAAAAACAACAAAAGTTGGATGGAAAGTGAGTTCAGAGTTTACTCTAGTGCGAATAATTGCACTTTTG'\n"
          ],
          "name": "stdout"
        }
      ]
    },
    {
      "cell_type": "code",
      "metadata": {
        "id": "9oAqXgcuj4uu",
        "colab_type": "code",
        "outputId": "5bca2128-fd0d-4dbb-d7e5-1702524ae051",
        "colab": {
          "base_uri": "https://localhost:8080/",
          "height": 34
        }
      },
      "source": [
        "len(sequences_list)"
      ],
      "execution_count": 0,
      "outputs": [
        {
          "output_type": "execute_result",
          "data": {
            "text/plain": [
              "793"
            ]
          },
          "metadata": {
            "tags": []
          },
          "execution_count": 10
        }
      ]
    },
    {
      "cell_type": "code",
      "metadata": {
        "id": "z-5cDEnraXVl",
        "colab_type": "code",
        "outputId": "70e26c3e-980e-449d-f690-1aa9a5ae3647",
        "colab": {
          "base_uri": "https://localhost:8080/",
          "height": 34
        }
      },
      "source": [
        "#testing\n",
        "a = sequences_list[0]\n",
        "b = sequences_list[1]\n",
        "c = sequences_list[2]\n",
        "a"
      ],
      "execution_count": 0,
      "outputs": [
        {
          "output_type": "execute_result",
          "data": {
            "text/plain": [
              "<BatchDataset shapes: (101,), types: tf.int64>"
            ]
          },
          "metadata": {
            "tags": []
          },
          "execution_count": 11
        }
      ]
    },
    {
      "cell_type": "code",
      "metadata": {
        "id": "ei1It_CPVDnW",
        "colab_type": "code",
        "outputId": "32cbf924-702e-4459-819f-d3cc710ed2a1",
        "colab": {
          "base_uri": "https://localhost:8080/",
          "height": 34
        }
      },
      "source": [
        "#testing; trying to concatenate batch datasets before mapping\n",
        "ab = a.concatenate(b)\n",
        "abc = ab.concatenate(c)\n",
        "abc"
      ],
      "execution_count": 0,
      "outputs": [
        {
          "output_type": "execute_result",
          "data": {
            "text/plain": [
              "<ConcatenateDataset shapes: (101,), types: tf.int64>"
            ]
          },
          "metadata": {
            "tags": []
          },
          "execution_count": 12
        }
      ]
    },
    {
      "cell_type": "code",
      "metadata": {
        "id": "9aPnAy_mV0a-",
        "colab_type": "code",
        "outputId": "6f7ea21b-be20-42c0-a809-19758c2f048a",
        "colab": {
          "base_uri": "https://localhost:8080/",
          "height": 34
        }
      },
      "source": [
        "#testing; list(abc.as_numpy_iterator())  #uncomment and run to see output\n",
        "len(list(abc.as_numpy_iterator())[0])"
      ],
      "execution_count": 0,
      "outputs": [
        {
          "output_type": "execute_result",
          "data": {
            "text/plain": [
              "101"
            ]
          },
          "metadata": {
            "tags": []
          },
          "execution_count": 13
        }
      ]
    },
    {
      "cell_type": "code",
      "metadata": {
        "id": "ZvFmHqjJZ4ng",
        "colab_type": "code",
        "outputId": "e1dbbd05-40e3-43a0-ed51-61846aa2bb63",
        "colab": {
          "base_uri": "https://localhost:8080/",
          "height": 34
        }
      },
      "source": [
        "a = sequences_list[0]\n",
        "for i in sequences_list[1:]:\n",
        "  a = a.concatenate(i)\n",
        "a "
      ],
      "execution_count": 0,
      "outputs": [
        {
          "output_type": "execute_result",
          "data": {
            "text/plain": [
              "<ConcatenateDataset shapes: (101,), types: tf.int64>"
            ]
          },
          "metadata": {
            "tags": []
          },
          "execution_count": 14
        }
      ]
    },
    {
      "cell_type": "code",
      "metadata": {
        "id": "GxBZ3fClX-th",
        "colab_type": "code",
        "outputId": "58d397f9-6619-4538-83bb-291f56024db6",
        "colab": {
          "base_uri": "https://localhost:8080/",
          "height": 34
        }
      },
      "source": [
        "def split_input_target(chunk):\n",
        "    input_text = chunk[:-1]\n",
        "    target_text = chunk[1:]\n",
        "    return input_text, target_text\n",
        "\n",
        "dataset = a.map(split_input_target)\n",
        "dataset"
      ],
      "execution_count": 0,
      "outputs": [
        {
          "output_type": "execute_result",
          "data": {
            "text/plain": [
              "<MapDataset shapes: ((100,), (100,)), types: (tf.int64, tf.int64)>"
            ]
          },
          "metadata": {
            "tags": []
          },
          "execution_count": 15
        }
      ]
    },
    {
      "cell_type": "code",
      "metadata": {
        "id": "7toHTu7Lj_ge",
        "colab_type": "code",
        "outputId": "5cf1bb84-effb-47ee-d496-3df1c48619bd",
        "colab": {
          "base_uri": "https://localhost:8080/",
          "height": 50
        }
      },
      "source": [
        "for input_example, target_example in  dataset.take(1):\n",
        "  print ('Input data: ', repr(''.join(idx2char[input_example.numpy()])))\n",
        "  print ('Target data:', repr(''.join(idx2char[target_example.numpy()])))"
      ],
      "execution_count": 0,
      "outputs": [
        {
          "output_type": "stream",
          "text": [
            "Input data:  'ATGTTTGTTTTTCTTGTTTTATTGCCACTAGTTTCTAGTCAGTGTGTTAATCTAACAACTAGAACTCAGTTACCTCCTGCATACACCAACTCATCCACCC'\n",
            "Target data: 'TGTTTGTTTTTCTTGTTTTATTGCCACTAGTTTCTAGTCAGTGTGTTAATCTAACAACTAGAACTCAGTTACCTCCTGCATACACCAACTCATCCACCCG'\n"
          ],
          "name": "stdout"
        }
      ]
    },
    {
      "cell_type": "code",
      "metadata": {
        "id": "DojUhtRBckpg",
        "colab_type": "code",
        "outputId": "df62c6b3-a795-41cf-d0d9-8a959fd55a85",
        "colab": {
          "base_uri": "https://localhost:8080/",
          "height": 269
        }
      },
      "source": [
        "for i, (input_idx, target_idx) in enumerate(zip(input_example[:5], target_example[:5])):\n",
        "    print(\"Step {:4d}\".format(i))\n",
        "    print(\"  input: {} ({:s})\".format(input_idx, repr(idx2char[input_idx])))\n",
        "    print(\"  expected output: {} ({:s})\".format(target_idx, repr(idx2char[target_idx])))"
      ],
      "execution_count": 0,
      "outputs": [
        {
          "output_type": "stream",
          "text": [
            "Step    0\n",
            "  input: 0 ('A')\n",
            "  expected output: 3 ('T')\n",
            "Step    1\n",
            "  input: 3 ('T')\n",
            "  expected output: 2 ('G')\n",
            "Step    2\n",
            "  input: 2 ('G')\n",
            "  expected output: 3 ('T')\n",
            "Step    3\n",
            "  input: 3 ('T')\n",
            "  expected output: 3 ('T')\n",
            "Step    4\n",
            "  input: 3 ('T')\n",
            "  expected output: 3 ('T')\n"
          ],
          "name": "stdout"
        }
      ]
    },
    {
      "cell_type": "code",
      "metadata": {
        "colab_type": "code",
        "id": "p2pGotuNzf-S",
        "outputId": "11f48b75-e635-4535-8895-66017df97e1d",
        "colab": {
          "base_uri": "https://localhost:8080/",
          "height": 34
        }
      },
      "source": [
        "# Batch size\n",
        "BATCH_SIZE = 64              #!!!\n",
        "\n",
        "# Buffer size to shuffle the dataset\n",
        "# (TF data is designed to work with possibly infinite sequences,\n",
        "# so it doesn't attempt to shuffle the entire sequence in memory. Instead,\n",
        "# it maintains a buffer in which it shuffles elements).\n",
        "BUFFER_SIZE = 10000          #!!!\n",
        "\n",
        "dataset = dataset.shuffle(BUFFER_SIZE).batch(BATCH_SIZE, drop_remainder=True)\n",
        "\n",
        "dataset"
      ],
      "execution_count": 0,
      "outputs": [
        {
          "output_type": "execute_result",
          "data": {
            "text/plain": [
              "<BatchDataset shapes: ((64, 100), (64, 100)), types: (tf.int64, tf.int64)>"
            ]
          },
          "metadata": {
            "tags": []
          },
          "execution_count": 18
        }
      ]
    },
    {
      "cell_type": "code",
      "metadata": {
        "id": "L6DCSS5AqP17",
        "colab_type": "code",
        "colab": {}
      },
      "source": [
        "# Length of the vocabulary in chars\n",
        "vocab_size = len(vocab)\n",
        "\n",
        "# The embedding dimension\n",
        "embedding_dim = 256\n",
        "\n",
        "# Number of RNN units\n",
        "rnn_units = 1024\n",
        "\n",
        "def build_model(vocab_size, embedding_dim, rnn_units, batch_size):\n",
        "  model = tf.keras.Sequential([\n",
        "    tf.keras.layers.Embedding(vocab_size, embedding_dim,\n",
        "                              batch_input_shape=[batch_size, None]),\n",
        "    tf.keras.layers.GRU(rnn_units,\n",
        "                        return_sequences=True,\n",
        "                        stateful=True,\n",
        "                        recurrent_initializer='glorot_uniform'),\n",
        "    tf.keras.layers.Dense(vocab_size)\n",
        "  ])\n",
        "  return model"
      ],
      "execution_count": 0,
      "outputs": []
    },
    {
      "cell_type": "code",
      "metadata": {
        "id": "h2XJJuLfqqmw",
        "colab_type": "code",
        "colab": {}
      },
      "source": [
        "model = build_model(\n",
        "  vocab_size = len(vocab),\n",
        "  embedding_dim=embedding_dim,\n",
        "  rnn_units=rnn_units,\n",
        "  batch_size=BATCH_SIZE)"
      ],
      "execution_count": 0,
      "outputs": []
    },
    {
      "cell_type": "code",
      "metadata": {
        "id": "XgqBwHlLc_JM",
        "colab_type": "code",
        "outputId": "c64f22bd-3a5f-45ec-b0e0-49d2b3b13e90",
        "colab": {
          "base_uri": "https://localhost:8080/",
          "height": 34
        }
      },
      "source": [
        "for input_example_batch, target_example_batch in dataset.take(1):\n",
        "  example_batch_predictions = model(input_example_batch)\n",
        "  print(example_batch_predictions.shape, \"# (batch_size, sequence_length, vocab_size)\")"
      ],
      "execution_count": 0,
      "outputs": [
        {
          "output_type": "stream",
          "text": [
            "(64, 100, 4) # (batch_size, sequence_length, vocab_size)\n"
          ],
          "name": "stdout"
        }
      ]
    },
    {
      "cell_type": "code",
      "metadata": {
        "id": "XV3GpqhfdRs-",
        "colab_type": "code",
        "outputId": "ea96e8e7-d06a-4b57-e813-55c861e22900",
        "colab": {
          "base_uri": "https://localhost:8080/",
          "height": 252
        }
      },
      "source": [
        "model.summary()"
      ],
      "execution_count": 0,
      "outputs": [
        {
          "output_type": "stream",
          "text": [
            "Model: \"sequential\"\n",
            "_________________________________________________________________\n",
            "Layer (type)                 Output Shape              Param #   \n",
            "=================================================================\n",
            "embedding (Embedding)        (64, None, 256)           1024      \n",
            "_________________________________________________________________\n",
            "gru (GRU)                    (64, None, 1024)          3938304   \n",
            "_________________________________________________________________\n",
            "dense (Dense)                (64, None, 4)             4100      \n",
            "=================================================================\n",
            "Total params: 3,943,428\n",
            "Trainable params: 3,943,428\n",
            "Non-trainable params: 0\n",
            "_________________________________________________________________\n"
          ],
          "name": "stdout"
        }
      ]
    },
    {
      "cell_type": "code",
      "metadata": {
        "id": "N4APrEAMdaZM",
        "colab_type": "code",
        "colab": {}
      },
      "source": [
        "sampled_indices = tf.random.categorical(example_batch_predictions[0], num_samples=1)\n",
        "sampled_indices = tf.squeeze(sampled_indices,axis=-1).numpy()"
      ],
      "execution_count": 0,
      "outputs": []
    },
    {
      "cell_type": "code",
      "metadata": {
        "id": "q4HSPY35ddqu",
        "colab_type": "code",
        "outputId": "795faeaa-4055-4864-eeb0-87b2d7003102",
        "colab": {
          "base_uri": "https://localhost:8080/",
          "height": 101
        }
      },
      "source": [
        "sampled_indices"
      ],
      "execution_count": 0,
      "outputs": [
        {
          "output_type": "execute_result",
          "data": {
            "text/plain": [
              "array([3, 3, 3, 1, 1, 1, 2, 2, 2, 1, 3, 1, 1, 1, 1, 3, 1, 3, 1, 3, 1, 2,\n",
              "       1, 1, 3, 2, 0, 1, 2, 3, 3, 2, 1, 2, 3, 1, 3, 1, 3, 0, 2, 2, 0, 2,\n",
              "       3, 2, 1, 3, 2, 3, 0, 1, 2, 1, 1, 1, 1, 0, 3, 1, 3, 1, 3, 2, 3, 3,\n",
              "       0, 1, 3, 2, 3, 1, 0, 3, 2, 1, 1, 0, 2, 2, 1, 0, 0, 1, 3, 0, 2, 0,\n",
              "       0, 2, 0, 1, 1, 3, 3, 0, 0, 3, 2, 0])"
            ]
          },
          "metadata": {
            "tags": []
          },
          "execution_count": 24
        }
      ]
    },
    {
      "cell_type": "code",
      "metadata": {
        "id": "cOxwkQwFdhXB",
        "colab_type": "code",
        "outputId": "22a24455-4b25-4ff2-8067-2338d05da2b0",
        "colab": {
          "base_uri": "https://localhost:8080/",
          "height": 101
        }
      },
      "source": [
        "print(\"Input: \\n\", repr(\"\".join(idx2char[input_example_batch[0]])))\n",
        "print()\n",
        "print(\"Next Char Predictions: \\n\", repr(\"\".join(idx2char[sampled_indices ])))"
      ],
      "execution_count": 0,
      "outputs": [
        {
          "output_type": "stream",
          "text": [
            "Input: \n",
            " 'CATTTGTGGTGATTCAACTGAATGCAGCAATCTTTTGTTGCAATATGGCAGTTTTTGTACACAATTAAACCGTGCTTTAACTGGAATAGCTGTTGAACAA'\n",
            "\n",
            "Next Char Predictions: \n",
            " 'TTTCCCGGGCTCCCCTCTCTCGCCTGACGTTGCGTCTCTAGGAGTGCTGTACGCCCCATCTCTGTTACTGTCATGCCAGGCAACTAGAAGACCTTAATGA'\n"
          ],
          "name": "stdout"
        }
      ]
    },
    {
      "cell_type": "code",
      "metadata": {
        "id": "pkWcNSl_dtON",
        "colab_type": "code",
        "outputId": "0682e6c6-9d04-4ccd-dbe9-0a2b5373bbc3",
        "colab": {
          "base_uri": "https://localhost:8080/",
          "height": 50
        }
      },
      "source": [
        "def loss(labels, logits):\n",
        "  return tf.keras.losses.sparse_categorical_crossentropy(labels, logits, from_logits=True)\n",
        "\n",
        "example_batch_loss  = loss(target_example_batch, example_batch_predictions)\n",
        "print(\"Prediction shape: \", example_batch_predictions.shape, \" # (batch_size, sequence_length, vocab_size)\")\n",
        "print(\"scalar_loss:      \", example_batch_loss.numpy().mean())"
      ],
      "execution_count": 0,
      "outputs": [
        {
          "output_type": "stream",
          "text": [
            "Prediction shape:  (64, 100, 4)  # (batch_size, sequence_length, vocab_size)\n",
            "scalar_loss:       1.3845732\n"
          ],
          "name": "stdout"
        }
      ]
    },
    {
      "cell_type": "code",
      "metadata": {
        "id": "r4YHCN4Kdzr4",
        "colab_type": "code",
        "colab": {}
      },
      "source": [
        "model.compile(optimizer='adam', loss=loss)"
      ],
      "execution_count": 0,
      "outputs": []
    },
    {
      "cell_type": "code",
      "metadata": {
        "id": "Y7Q6u0Bpd3rB",
        "colab_type": "code",
        "colab": {}
      },
      "source": [
        "# Directory where the checkpoints will be saved\n",
        "checkpoint_dir = './training_checkpoints'\n",
        "# Name of the checkpoint files\n",
        "checkpoint_prefix = os.path.join(checkpoint_dir, \"ckpt_{epoch}\")\n",
        "\n",
        "checkpoint_callback=tf.keras.callbacks.ModelCheckpoint(\n",
        "    filepath=checkpoint_prefix,\n",
        "    save_weights_only=True)"
      ],
      "execution_count": 0,
      "outputs": []
    },
    {
      "cell_type": "code",
      "metadata": {
        "id": "0J3lXl-deDVl",
        "colab_type": "code",
        "outputId": "10f4fc4e-934d-4ef2-d561-19c1e473b417",
        "colab": {
          "base_uri": "https://localhost:8080/",
          "height": 353
        }
      },
      "source": [
        "EPOCHS=10\n",
        "history = model.fit(dataset, epochs=EPOCHS, callbacks=[checkpoint_callback])"
      ],
      "execution_count": 0,
      "outputs": [
        {
          "output_type": "stream",
          "text": [
            "Epoch 1/10\n",
            "455/455 [==============================] - 21s 47ms/step - loss: 0.5050\n",
            "Epoch 2/10\n",
            "455/455 [==============================] - 21s 46ms/step - loss: 0.0483\n",
            "Epoch 3/10\n",
            "455/455 [==============================] - 21s 47ms/step - loss: 0.0429\n",
            "Epoch 4/10\n",
            "455/455 [==============================] - 21s 47ms/step - loss: 0.0412\n",
            "Epoch 5/10\n",
            "455/455 [==============================] - 21s 46ms/step - loss: 0.0396\n",
            "Epoch 6/10\n",
            "455/455 [==============================] - 21s 47ms/step - loss: 0.0387\n",
            "Epoch 7/10\n",
            "455/455 [==============================] - 21s 46ms/step - loss: 0.0379\n",
            "Epoch 8/10\n",
            "455/455 [==============================] - 21s 47ms/step - loss: 0.0376\n",
            "Epoch 9/10\n",
            "455/455 [==============================] - 21s 46ms/step - loss: 0.0373\n",
            "Epoch 10/10\n",
            "455/455 [==============================] - 21s 46ms/step - loss: 0.0369\n"
          ],
          "name": "stdout"
        }
      ]
    },
    {
      "cell_type": "code",
      "metadata": {
        "id": "q7DZ3SGXuByq",
        "colab_type": "code",
        "outputId": "b0b024b3-da9a-4d98-bc9b-b5a3ca1b34a0",
        "colab": {
          "base_uri": "https://localhost:8080/",
          "height": 252
        }
      },
      "source": [
        "tf.train.latest_checkpoint(checkpoint_dir)\n",
        "model = build_model(vocab_size, embedding_dim, rnn_units, batch_size=1)\n",
        "\n",
        "model.load_weights(tf.train.latest_checkpoint(checkpoint_dir))\n",
        "\n",
        "model.build(tf.TensorShape([1, None]))\n",
        "model.summary()"
      ],
      "execution_count": 0,
      "outputs": [
        {
          "output_type": "stream",
          "text": [
            "Model: \"sequential_1\"\n",
            "_________________________________________________________________\n",
            "Layer (type)                 Output Shape              Param #   \n",
            "=================================================================\n",
            "embedding_1 (Embedding)      (1, None, 256)            1024      \n",
            "_________________________________________________________________\n",
            "gru_1 (GRU)                  (1, None, 1024)           3938304   \n",
            "_________________________________________________________________\n",
            "dense_1 (Dense)              (1, None, 4)              4100      \n",
            "=================================================================\n",
            "Total params: 3,943,428\n",
            "Trainable params: 3,943,428\n",
            "Non-trainable params: 0\n",
            "_________________________________________________________________\n"
          ],
          "name": "stdout"
        }
      ]
    },
    {
      "cell_type": "code",
      "metadata": {
        "id": "9g-SawVWuQPY",
        "colab_type": "code",
        "colab": {}
      },
      "source": [
        "def generate_text(model, start_string):\n",
        "  # Evaluation step (generating text using the learned model)\n",
        "\n",
        "  # Number of characters to generate\n",
        "  num_generate = 3771                                       #!!!\n",
        "\n",
        "  # Converting our start string to numbers (vectorizing)\n",
        "  input_eval = [char2idx[s] for s in start_string]\n",
        "  input_eval = tf.expand_dims(input_eval, 0)\n",
        "\n",
        "  # Empty string to store our results\n",
        "  text_generated = []\n",
        "\n",
        "  # Low temperatures results in more predictable text.\n",
        "  # Higher temperatures results in more surprising text.\n",
        "  # Experiment to find the best setting.\n",
        "  temperature = 1.0                                           #!!!\n",
        "\n",
        "  # Here batch size == 1\n",
        "  model.reset_states()\n",
        "  for i in range(num_generate):\n",
        "      predictions = model(input_eval)\n",
        "      # remove the batch dimension\n",
        "      predictions = tf.squeeze(predictions, 0)\n",
        "\n",
        "      # using a categorical distribution to predict the character returned by the model\n",
        "      predictions = predictions / temperature\n",
        "      predicted_id = tf.random.categorical(predictions, num_samples=1)[-1,0].numpy()\n",
        "\n",
        "      # We pass the predicted character as the next input to the model\n",
        "      # along with the previous hidden state\n",
        "      input_eval = tf.expand_dims([predicted_id], 0)\n",
        "\n",
        "      text_generated.append(idx2char[predicted_id])\n",
        "\n",
        "  return (start_string + ''.join(text_generated))"
      ],
      "execution_count": 0,
      "outputs": []
    },
    {
      "cell_type": "code",
      "metadata": {
        "id": "DFkrEbi7vQSO",
        "colab_type": "code",
        "outputId": "3b5d1a3a-f133-47c2-af7e-cf54475c8313",
        "colab": {
          "base_uri": "https://localhost:8080/",
          "height": 54
        }
      },
      "source": [
        "print(generate_text(model, start_string=u\"ATGTTTGTTTTTCTTGTTTTATTGCCACTAGTTTCTAGTCAGTGTGTT\"))"
      ],
      "execution_count": 0,
      "outputs": [
        {
          "output_type": "stream",
          "text": [
            "ATGTTTGTTTTTCTTGTTTTATTGCCACTAGTTTCTAGTCAGTGTGTTAATCTTACAACCAGAATTCAGTTACCTCCTGCATACACTAATTCTTTCACACGGAGTTACACAGAATGTTCTCTATGAGAACCAAAAATTGATTGCCAACCAATTTAATAGTGCTATTGGCAAAATTCAAGACTCACTTTCTTCCACAGCAAGGAGTTACACAGAATGTTCTCTATGAGAACCAAAAATTGATTGCCAACCAATTTAATAGTGCTATTGGCAAAATTCAAGACTCACTTTCTTCCACAGCAAGATGAAGTCAGACAAATCGCTCCAGGGCAAACTGGAAAGATTGCTGATTATAATTATAAATTACCAGATGATTTTACAGGCTGCGTTATAGCTTGGAATTCAGGTTGCTGTTCTTTATCAGGGTGTTAACTGCACAGAAGTCCCTGTTGCTATTCATGCAGATCAACTTACTCCTACTTGGCGTGTTTATTCTACAGGTTTCTAATAACTCTATTGCCATACCCACAAATTTTACAATATGTCTCTCAGCCTTTTCTTATGGACCTTGAAGGAAAACAGGGTAATTTCAAAAATCTTAGGGAATTTGTGTTTAAGAATATTGATGGTTATTTTAAAGACTCATTCAAGGAGGAGTTAGATAAATATTTTAAGAATCATACATCACCAGATGTTGATTTAGGTGACATCTCTGGCATTAATGCTTCAGTTGTAAACATATATTCTAAGCACACGCCTATTAATTTAGTGCGTGATCTCCCTCAGTGTTTTTTTGGTCCGCATCATTTTCCACTTTTAAGTGTTATGGAGTGTCTCCTACTAAATTAAATGATCTCTGCTTTACTAATGTCTATGCAGATTCATTTGTAATTAGAGGTAATGTTTTTCAAACACGTGCAGGCTGTTTAATAGGGGCTGAACATGTCAACAACTCATATGAGTGTGACATACCCATTGGTGCAGGTATATGCGCTAGTTCTATCAGGCCGGTAGCACACCTTGTAATGGTGTTGAAGGTTTTAATTGTTACTTTCCTTTACAATCATATGGTTTCCAACCCACTAATGGTGTTGGTTACCATCAAAACCAAGCAAGAGGTCATTTATTGAAGATCTACTTTTCAACAAAGTGACACTTGCAGATGCTGGCTTCATCAAACAATATGGTGATTGCCTTGGGAGTTACACAGAATGTTCTCTATGAGAACCAAAAATTGATTGCCAACCAATTTAATAGTGCTATTGGCAAAATTCAAGACTCACTTTCTTCCACAGCAAGATGAAGTCAGACAAATCGCTCCAGGGCAAACTGGAAAGATTGCTGATTATAATTATAAATTACCAGATGATTTTACAGGCTGCGTTATAGCTTGGAATTCCATGGTACATTTGGCTAGGTTTTATAGCTGGCTTGATTGCCATAGTAATGGTGACAATTATGCTTTGCTGTATGACCAGTTGCTGTAGTTGTCTCAAGGGCTGTTGTTCTTGTAGATCTAATCTCCAACCATATAGTCTCTTAACAATCATATGTTTGTTTTTCTTGTTTTATTGCCACTAGTCTCTAGTCAGTGTGTTAATCTTACAACCAGAACTCAATTACCCCCTGCATATACTAATTCTTTCACACGTGGTGTTTATTACCCTGACAAAGTTTTCAGATCCTCAGTTTTACATTCAACTCAGGACTTGTTCTTACCTTTCTTTTCTAAGAGGAGTTAGATAAATATTTTAAGAATCATACATCACCAGATGTTGATTTAGGTGACATCTCTGGCATTAATGCTTCAGTTGTAAACATCAGACTCAGACTAATTCTCCTCGGCGGGCACGTAGTGTAGCTAGTCAATCCATCATTGCCTACACTATGTCACTTGGTGCAGAAAATTCAGTTGCTTACCATCAAAACCAAGCAAGAGGTCATTTATTGAAGATCTACTTTTCAACAAAGTGACACTTGCAGATGCTGGCTTCATCAAACAATATGGTGATTGCCTTGGTAATTGATATCAGGTTGCTGTTCTTTATCAGGGTGTTAACTGCACAGAAGTCCCTGTTGCTATTCATGCAGATCAACTTACTCCTACTTGGCGTGTTTATTCTACAGGTTCTAATGTTTTTCAAACACGTGCAGGCTGTTTAATAGGGGCTGAACATGTCAACAACTCATATGAGTGTGACATACCCATTGGTGCAGGTATATGCGCTAGTTCTAATAACTCTATTGCCATACCCACAAATTTTACTATTAGTGTTACCACAGAAATTCTACCAGTGTCTATGACCAAGACATCAGTAGATTGTACAATGTACATTTGTGGTGATTCAACTGAATGCAGCAATCTTTTGTTGCAATATGGCAGTTTTTGTACACAATTAAACCGTGCTTTAACTGGAATAGCTGTTGAACAAGTCAAACAAATTTACAAAACACCACCAATTAAAGATTTTGGTGGTTTTAATTTTTCACAAATATTACCAGATCCATCAAAACCAAGCAAGAGGTCATTTATTGAAGATCTACTTTTCAACAAAGTGAAACAAAAAGACAACCATTAGAGAGTGTTAACTGCACAGAAGTCCCTGTTGCTATTCATGCAGATCAACTTACTCCTACTTGGCGTGTTTATTCTACAGGTTCTAATGTTTTTCAAACACGTGCAGGCTGTTTAATAGGGGCTGAACATGTCAACAACTCATATGAGTGTGACATACCCATTGGTGCAGGTATATGCGCTAGTTAAATGATATCCTTTCACGTCTTGACAAAGTTGAGGCTGAAGTGCAAATTGATAGGTTGATCACAGGCAGACTTCAAAGTTTGCAGACATATGTGACTCAAAATCCTTCACTGTAGAAAAAGGAATCTATCAAACTTCTAACTTTAGAGTCCAACCAACAGAATCTATTGTTAGATTTCCTAATATTACAAACTTGTGCCCAATTTCAACTTCAATGGTTTAACAGGCACAGGTGTTCTTACTGAGTCTAACAAAAAGTTTCTGCCTTTCCAACAATTTGGCAGAGACATTGCTGACACTATCAGACTCAGACTAATTCTCCTCGGCGGGCACGTAGTGTAGCTAGTCAATCCATCATTGCCTACACTATGTCACTTGGTGCAGAAAATTCAGTTGCTTACCATCAAAACCAAGCAAGAGGTCATTTATTGAAGATTTACTTTTCAAAAACCATGCACTTGGAAAACTTCAAGATGTGGTCAACCAAAATGCACAAGCTTTAAACACGCTTGTTAAACAACTTAGCTCCAATTTTGGTGCAATTTCAAGTGTTTGGTGTTTATTACCCTGACAAAGTTTTCAGATCCTCAGTTTTACATTCAACTCAGGACTTGTTCTTACCTTTCTTTTCCAATGTTACTTGGTTCCATGCTAGAGGCTGGATTTTTGGTACTACTTTAGATTCGAAGACCCAGTCCCTACTTATTGTTAATAACGCTACTAATGTTGTTATTAAAGTCTGTGAATTTCAATTACATGTCTCTGGGACCAATGGTACTAAGAGGTTTGATAACCCTGTCCCACAAATCATTACTACAGACAACACATTTGTGTCTGGTAACTGTGATGTTGTAATAGGAATTGTCAACAACACAGTTTATGATCCTTTGCAACCTGAATTCTAATAACTCTATTGCCATACCCACAAATTTTACTACTAGTGAAATCAGACTCAGACTAATTCTCCTCGGCGGGCACGTAGTGTAGCTAGTCAATCCATCATTGCCTACACTATGTCACTTGGTGCAGAAAATTCAGTTGCTTACAACCATACAGAGTAG\n"
          ],
          "name": "stdout"
        }
      ]
    }
  ]
}